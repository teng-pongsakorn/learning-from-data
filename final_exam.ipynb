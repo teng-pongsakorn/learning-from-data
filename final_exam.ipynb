{
 "cells": [
  {
   "cell_type": "code",
   "execution_count": 2,
   "metadata": {
    "collapsed": true
   },
   "outputs": [],
   "source": [
    "import numpy as np\n",
    "import pandas as pd\n",
    "import matplotlib.pyplot as plt\n",
    "%matplotlib inline"
   ]
  },
  {
   "cell_type": "markdown",
   "metadata": {},
   "source": [
    "### Regularized Linear Regression"
   ]
  },
  {
   "cell_type": "code",
   "execution_count": 5,
   "metadata": {
    "collapsed": true
   },
   "outputs": [],
   "source": [
    "data_train = np.loadtxt('features.train')\n",
    "data_test = np.loadtxt('features.test')"
   ]
  },
  {
   "cell_type": "code",
   "execution_count": 6,
   "metadata": {},
   "outputs": [
    {
     "data": {
      "text/plain": [
       "((7291, 3), (2007, 3))"
      ]
     },
     "execution_count": 6,
     "metadata": {},
     "output_type": "execute_result"
    }
   ],
   "source": [
    "data_train.shape, data_test.shape"
   ]
  },
  {
   "cell_type": "code",
   "execution_count": 17,
   "metadata": {
    "collapsed": true
   },
   "outputs": [],
   "source": [
    "class MyLinearRegression:\n",
    "    \n",
    "    def __init__(self, lam=1.0):\n",
    "        self.lambda_ = lam\n",
    "        \n",
    "    def fit(self, X, y):\n",
    "        term1 = np.dot(X.T, X) + self.lambda_*np.eye(N=X.shape[1])\n",
    "        term2 = np.dot(X.T, y)\n",
    "        self.w_ = np.dot(np.linalg.pinv(term1), term2)\n",
    "        return self\n",
    "    \n",
    "    def predict(self, X):\n",
    "        return np.sign(np.dot(X, self.w_))\n",
    "    \n",
    "    def score(self, X, y_true):\n",
    "        y_pred = self.predict(X)\n",
    "        return (y_pred != y_true).mean()"
   ]
  },
  {
   "cell_type": "code",
   "execution_count": 25,
   "metadata": {
    "collapsed": true
   },
   "outputs": [],
   "source": [
    "def make_y_vs_all(y, num):\n",
    "    return np.where(y==num, 1, -1)\n",
    "\n",
    "def z_transform(X):\n",
    "    assert X.shape[1]==3\n",
    "    x0, x1, x2 = X.T\n",
    "    return np.c_[x0, x1, x2, x1*x2, x1**2, x2**2]"
   ]
  },
  {
   "cell_type": "code",
   "execution_count": 14,
   "metadata": {},
   "outputs": [],
   "source": [
    "y_train = data_train[:, 0]\n",
    "X_train = np.c_[np.ones(len(data_train)), data_train[:, 1:]]\n",
    "X_test = np.c_[np.ones(len(data_test)), data_test[:, 1:]]\n",
    "y_test = data_test[:, 0]"
   ]
  },
  {
   "cell_type": "code",
   "execution_count": 15,
   "metadata": {},
   "outputs": [
    {
     "data": {
      "text/plain": [
       "((7291, 3), (2007, 3))"
      ]
     },
     "execution_count": 15,
     "metadata": {},
     "output_type": "execute_result"
    }
   ],
   "source": [
    "X_train.shape, X_test.shape"
   ]
  },
  {
   "cell_type": "code",
   "execution_count": 22,
   "metadata": {},
   "outputs": [
    {
     "name": "stdout",
     "output_type": "stream",
     "text": [
      "5 versus all: E_in = 0.07626\n",
      "6 versus all: E_in = 0.09107\n",
      "7 versus all: E_in = 0.08847\n",
      "8 versus all: E_in = 0.07434\n",
      "9 versus all: E_in = 0.08833\n"
     ]
    }
   ],
   "source": [
    "for n in range(5, 10):\n",
    "    clf = MyLinearRegression(lam=1.0).fit(X_train, make_y_vs_all(y_train, n))\n",
    "    s = clf.score(X_train, make_y_vs_all(y_train, n))\n",
    "    print(\"{} versus all: E_in = {:.5f}\".format(n, s))"
   ]
  },
  {
   "cell_type": "code",
   "execution_count": 27,
   "metadata": {},
   "outputs": [
    {
     "name": "stdout",
     "output_type": "stream",
     "text": [
      "0 versus all: E_out = 0.10663\n",
      "1 versus all: E_out = 0.02192\n",
      "2 versus all: E_out = 0.09865\n",
      "3 versus all: E_out = 0.08271\n",
      "4 versus all: E_out = 0.09965\n"
     ]
    }
   ],
   "source": [
    "for n in range(0, 5):\n",
    "    Z_in = z_transform(X_train)\n",
    "    y_in = make_y_vs_all(y_train, n)\n",
    "    Z_out = z_transform(X_test)\n",
    "    y_out = make_y_vs_all(y_test, n)\n",
    "    clf = MyLinearRegression(lam=1.0).fit(Z_in, y_in)\n",
    "    score = clf.score(Z_out, y_out)\n",
    "    print(\"{} versus all: E_out = {:.5f}\".format(n, score))"
   ]
  },
  {
   "cell_type": "code",
   "execution_count": 34,
   "metadata": {
    "collapsed": true
   },
   "outputs": [],
   "source": [
    "E_out_transform = []\n",
    "E_in_transform = []\n",
    "E_out_original = []\n",
    "E_in_original = []\n",
    "\n",
    "for n in range(0, 10):\n",
    "    y_in = make_y_vs_all(y_train, n)\n",
    "    y_out = make_y_vs_all(y_test, n)\n",
    "    Z_in = z_transform(X_train)\n",
    "    Z_out = z_transform(X_test)\n",
    "    \n",
    "    clf_x = MyLinearRegression(lam=1.0).fit(X_train, y_in)\n",
    "    clf_z = MyLinearRegression(lam=1.0).fit(Z_in, y_in)\n",
    "    \n",
    "    E_out_original.append(clf_x.score(X_test, y_out))\n",
    "    E_in_original.append(clf_x.score(X_train, y_in))\n",
    "    E_out_transform.append(clf_z.score(Z_out, y_out))\n",
    "    E_in_transform.append(clf_z.score(Z_in, y_in))\n",
    "    \n",
    "data = {'E_in[Z]': E_in_transform,\n",
    "        'E_out[Z]': E_out_transform,\n",
    "        'E_in[X]': E_in_original,\n",
    "        'E_out[X]': E_out_original}\n",
    "\n",
    "df = pd.DataFrame(data) #, columns=['E_in[X]', 'E_out[X]', 'E_in[Z]', 'E_out[Z]'])"
   ]
  },
  {
   "cell_type": "code",
   "execution_count": 35,
   "metadata": {},
   "outputs": [
    {
     "data": {
      "text/html": [
       "<div>\n",
       "<table border=\"1\" class=\"dataframe\">\n",
       "  <thead>\n",
       "    <tr style=\"text-align: right;\">\n",
       "      <th></th>\n",
       "      <th>E_in[X]</th>\n",
       "      <th>E_in[Z]</th>\n",
       "      <th>E_out[X]</th>\n",
       "      <th>E_out[Z]</th>\n",
       "    </tr>\n",
       "  </thead>\n",
       "  <tbody>\n",
       "    <tr>\n",
       "      <th>0</th>\n",
       "      <td>0.109313</td>\n",
       "      <td>0.102318</td>\n",
       "      <td>0.115097</td>\n",
       "      <td>0.106627</td>\n",
       "    </tr>\n",
       "    <tr>\n",
       "      <th>1</th>\n",
       "      <td>0.015224</td>\n",
       "      <td>0.012344</td>\n",
       "      <td>0.022422</td>\n",
       "      <td>0.021923</td>\n",
       "    </tr>\n",
       "    <tr>\n",
       "      <th>2</th>\n",
       "      <td>0.100261</td>\n",
       "      <td>0.100261</td>\n",
       "      <td>0.098655</td>\n",
       "      <td>0.098655</td>\n",
       "    </tr>\n",
       "    <tr>\n",
       "      <th>3</th>\n",
       "      <td>0.090248</td>\n",
       "      <td>0.090248</td>\n",
       "      <td>0.082711</td>\n",
       "      <td>0.082711</td>\n",
       "    </tr>\n",
       "    <tr>\n",
       "      <th>4</th>\n",
       "      <td>0.089425</td>\n",
       "      <td>0.089425</td>\n",
       "      <td>0.099651</td>\n",
       "      <td>0.099651</td>\n",
       "    </tr>\n",
       "    <tr>\n",
       "      <th>5</th>\n",
       "      <td>0.076258</td>\n",
       "      <td>0.076258</td>\n",
       "      <td>0.079721</td>\n",
       "      <td>0.079223</td>\n",
       "    </tr>\n",
       "    <tr>\n",
       "      <th>6</th>\n",
       "      <td>0.091071</td>\n",
       "      <td>0.091071</td>\n",
       "      <td>0.084704</td>\n",
       "      <td>0.084704</td>\n",
       "    </tr>\n",
       "    <tr>\n",
       "      <th>7</th>\n",
       "      <td>0.088465</td>\n",
       "      <td>0.088465</td>\n",
       "      <td>0.073244</td>\n",
       "      <td>0.073244</td>\n",
       "    </tr>\n",
       "    <tr>\n",
       "      <th>8</th>\n",
       "      <td>0.074338</td>\n",
       "      <td>0.074338</td>\n",
       "      <td>0.082711</td>\n",
       "      <td>0.082711</td>\n",
       "    </tr>\n",
       "    <tr>\n",
       "      <th>9</th>\n",
       "      <td>0.088328</td>\n",
       "      <td>0.088328</td>\n",
       "      <td>0.088191</td>\n",
       "      <td>0.088191</td>\n",
       "    </tr>\n",
       "  </tbody>\n",
       "</table>\n",
       "</div>"
      ],
      "text/plain": [
       "    E_in[X]   E_in[Z]  E_out[X]  E_out[Z]\n",
       "0  0.109313  0.102318  0.115097  0.106627\n",
       "1  0.015224  0.012344  0.022422  0.021923\n",
       "2  0.100261  0.100261  0.098655  0.098655\n",
       "3  0.090248  0.090248  0.082711  0.082711\n",
       "4  0.089425  0.089425  0.099651  0.099651\n",
       "5  0.076258  0.076258  0.079721  0.079223\n",
       "6  0.091071  0.091071  0.084704  0.084704\n",
       "7  0.088465  0.088465  0.073244  0.073244\n",
       "8  0.074338  0.074338  0.082711  0.082711\n",
       "9  0.088328  0.088328  0.088191  0.088191"
      ]
     },
     "execution_count": 35,
     "metadata": {},
     "output_type": "execute_result"
    }
   ],
   "source": [
    "df"
   ]
  },
  {
   "cell_type": "code",
   "execution_count": 37,
   "metadata": {},
   "outputs": [
    {
     "data": {
      "text/plain": [
       "False"
      ]
     },
     "execution_count": 37,
     "metadata": {},
     "output_type": "execute_result"
    }
   ],
   "source": [
    "(df['E_out[X]'] < df['E_out[Z]']).any()"
   ]
  },
  {
   "cell_type": "code",
   "execution_count": 39,
   "metadata": {},
   "outputs": [
    {
     "data": {
      "text/plain": [
       "0     True\n",
       "1    False\n",
       "2    False\n",
       "3    False\n",
       "4    False\n",
       "5    False\n",
       "6    False\n",
       "7    False\n",
       "8    False\n",
       "9    False\n",
       "dtype: bool"
      ]
     },
     "execution_count": 39,
     "metadata": {},
     "output_type": "execute_result"
    }
   ],
   "source": [
    "df['E_out[Z]'] < 0.95*df['E_out[X]']"
   ]
  },
  {
   "cell_type": "code",
   "execution_count": 40,
   "metadata": {},
   "outputs": [
    {
     "data": {
      "text/plain": [
       "0     True\n",
       "1     True\n",
       "2    False\n",
       "3    False\n",
       "4    False\n",
       "5     True\n",
       "6    False\n",
       "7    False\n",
       "8    False\n",
       "9    False\n",
       "dtype: bool"
      ]
     },
     "execution_count": 40,
     "metadata": {},
     "output_type": "execute_result"
    }
   ],
   "source": [
    "df['E_out[Z]'] < df['E_out[X]']"
   ]
  },
  {
   "cell_type": "code",
   "execution_count": 41,
   "metadata": {},
   "outputs": [
    {
     "data": {
      "text/plain": [
       "0    False\n",
       "1    False\n",
       "2    False\n",
       "3    False\n",
       "4    False\n",
       "5    False\n",
       "6    False\n",
       "7    False\n",
       "8    False\n",
       "9    False\n",
       "dtype: bool"
      ]
     },
     "execution_count": 41,
     "metadata": {},
     "output_type": "execute_result"
    }
   ],
   "source": [
    "df['E_out[X]'] < 0.95*df['E_out[Z]']"
   ]
  },
  {
   "cell_type": "code",
   "execution_count": 42,
   "metadata": {},
   "outputs": [
    {
     "data": {
      "text/plain": [
       "0    0.926407\n",
       "1    0.977778\n",
       "2    1.000000\n",
       "3    1.000000\n",
       "4    1.000000\n",
       "5    0.993750\n",
       "6    1.000000\n",
       "7    1.000000\n",
       "8    1.000000\n",
       "9    1.000000\n",
       "dtype: float64"
      ]
     },
     "execution_count": 42,
     "metadata": {},
     "output_type": "execute_result"
    }
   ],
   "source": [
    "df['E_out[Z]'] / df['E_out[X]']"
   ]
  },
  {
   "cell_type": "code",
   "execution_count": 48,
   "metadata": {
    "collapsed": true
   },
   "outputs": [],
   "source": [
    "one_or_five_train = (y_train == 1) | (y_train == 5)\n",
    "one_or_five_test = (y_test == 1) | (y_test == 5)\n",
    "\n",
    "y15_train = y_train[one_or_five_train]\n",
    "X15_train = X_train[one_or_five_train, :]\n",
    "y15_test = y_test[one_or_five_test]\n",
    "X15_test = X_test[one_or_five_test, :]\n",
    "\n",
    "\n",
    "Z15_train = z_transform(X15_train)\n",
    "Z15_test = z_transform(X15_test)\n",
    "\n",
    "y_in = make_y_vs_all(y15_train, 1)\n",
    "y_out = make_y_vs_all(y15_test, 1)"
   ]
  },
  {
   "cell_type": "code",
   "execution_count": 50,
   "metadata": {},
   "outputs": [
    {
     "name": "stdout",
     "output_type": "stream",
     "text": [
      "lamda=0.01\n",
      "E_in: 0.00448, E_out: 0.02830\n",
      "lamda=1.0\n",
      "E_in: 0.00512, E_out: 0.02594\n"
     ]
    }
   ],
   "source": [
    "for lam in [0.01, 1.0]:\n",
    "    clf = MyLinearRegression(lam=lam).fit(Z15_train, y_in)\n",
    "    print(\"lamda={}\".format(lam))\n",
    "    print('E_in: {:.5f}, E_out: {:.5f}'.format(clf.score(Z15_train, y_in), clf.score(Z15_test, y_out)))"
   ]
  },
  {
   "cell_type": "markdown",
   "metadata": {},
   "source": [
    "### Support Vector Machines"
   ]
  },
  {
   "cell_type": "code",
   "execution_count": 51,
   "metadata": {
    "collapsed": true
   },
   "outputs": [],
   "source": [
    "from sklearn.svm import SVC"
   ]
  },
  {
   "cell_type": "code",
   "execution_count": 151,
   "metadata": {},
   "outputs": [
    {
     "data": {
      "text/plain": [
       "array([[ 1.,  0.],\n",
       "       [ 0.,  1.],\n",
       "       [ 0., -1.],\n",
       "       [-1.,  0.],\n",
       "       [ 0.,  2.],\n",
       "       [ 0., -2.],\n",
       "       [-2.,  0.]])"
      ]
     },
     "execution_count": 151,
     "metadata": {},
     "output_type": "execute_result"
    }
   ],
   "source": [
    "X = np.array([[1, 0], [0, 1], [0, -1], [-1, 0], [0, 2], [0, -2.], [-2., 0]])\n",
    "X"
   ]
  },
  {
   "cell_type": "code",
   "execution_count": 152,
   "metadata": {},
   "outputs": [
    {
     "data": {
      "text/plain": [
       "array([[-3.,  2.],\n",
       "       [ 0., -1.],\n",
       "       [ 0.,  3.],\n",
       "       [ 1.,  2.],\n",
       "       [ 3., -3.],\n",
       "       [ 3.,  5.],\n",
       "       [ 3.,  5.]])"
      ]
     },
     "execution_count": 152,
     "metadata": {},
     "output_type": "execute_result"
    }
   ],
   "source": [
    "x1, x2 = X.T\n",
    "\n",
    "Z = np.c_[x2**2 - 2*x1 -1, x1**2 - 2*x2 + 1]\n",
    "Z"
   ]
  },
  {
   "cell_type": "code",
   "execution_count": 153,
   "metadata": {
    "collapsed": true
   },
   "outputs": [],
   "source": [
    "y = np.array([-1., -1., -1., 1, 1, 1, 1])"
   ]
  },
  {
   "cell_type": "code",
   "execution_count": 73,
   "metadata": {},
   "outputs": [
    {
     "data": {
      "text/plain": [
       "array([ 3.5,  0.5,  0.5,  0.5,  2.5,  2.5,  2.5])"
      ]
     },
     "execution_count": 73,
     "metadata": {},
     "output_type": "execute_result"
    }
   ],
   "source": [
    "w = [2, 0]\n",
    "b = -1\n",
    "\n",
    "y*(np.dot(Z, w) + b) /  np.linalg.norm(w)"
   ]
  },
  {
   "cell_type": "code",
   "execution_count": 154,
   "metadata": {},
   "outputs": [
    {
     "name": "stdout",
     "output_type": "stream",
     "text": [
      "5\n"
     ]
    }
   ],
   "source": [
    "m = SVC(C=float('inf'), kernel='poly', degree=2, gamma=1, coef0=1)\n",
    "m.fit(X, y)\n",
    "print(m.n_support_.sum())"
   ]
  },
  {
   "cell_type": "markdown",
   "metadata": {},
   "source": [
    "### Radial Basis Functions"
   ]
  },
  {
   "cell_type": "code",
   "execution_count": 41,
   "metadata": {
    "collapsed": true
   },
   "outputs": [],
   "source": [
    "def f(X):\n",
    "    '''target function'''\n",
    "    assert X.shape[1] == 2\n",
    "    x1, x2 = X.T\n",
    "    return np.sign(x2 - x1 + 0.25*np.sin(x1*np.pi))"
   ]
  },
  {
   "cell_type": "code",
   "execution_count": 42,
   "metadata": {
    "collapsed": true
   },
   "outputs": [],
   "source": [
    "class RBF_Model:\n",
    "    \n",
    "    def __init__(self, k, gamma):\n",
    "        self.k = k\n",
    "        self.gamma = gamma\n",
    "        \n",
    "    def fit(self, X, y):\n",
    "        \n",
    "        # get k cluster\n",
    "        from sklearn.cluster import KMeans\n",
    "        kmean = KMeans(n_clusters=self.k).fit(X)\n",
    "        self.centroids_ = kmean.cluster_centers_\n",
    "        \n",
    "        # transfrom rbf\n",
    "        Z = self._rbf_transfrom(X)\n",
    "        \n",
    "        # train linear regression\n",
    "        w = np.dot(np.linalg.pinv(np.dot(Z.T, Z)), np.dot(Z.T, y))\n",
    "        self.coef_ = w[1:]\n",
    "        self.bias_ = w[0]\n",
    "        self.w_ = w\n",
    "        return self\n",
    "    \n",
    "    def predict(self, X):\n",
    "        Z = self._rbf_transfrom(X)\n",
    "        y_pred = np.dot(Z, self.w_)\n",
    "        return np.sign(y_pred)\n",
    "        \n",
    "    def _rbf_transfrom(self, X):\n",
    "        assert X.shape[1] == self.centroids_.shape[1]\n",
    "        d = X[:, np.newaxis, :] - self.centroids_[np.newaxis, :, :]\n",
    "        d = np.linalg.norm(d, axis=-1)**2\n",
    "        return np.c_[np.ones(len(d)), np.exp(-self.gamma * d)]\n",
    "    \n",
    "    def score(self, X, y_true):\n",
    "        '''error rate'''\n",
    "        y_pred = self.predict(X)\n",
    "        return (y_true != y_pred).mean()"
   ]
  },
  {
   "cell_type": "code",
   "execution_count": 21,
   "metadata": {
    "collapsed": true
   },
   "outputs": [],
   "source": [
    "from sklearn.metrics.pairwise import rbf_kernel"
   ]
  },
  {
   "cell_type": "code",
   "execution_count": 48,
   "metadata": {},
   "outputs": [],
   "source": [
    "class MySVM:\n",
    "    '''Hard margin SVM using dual solution'''\n",
    "    def __init__(self, kernel='linear', gamma=1.0, tol=1e-5):\n",
    "        self.w_ = None\n",
    "        self.bias_ = None\n",
    "        self.gamma = gamma\n",
    "        self.tol = tol\n",
    "        self.kernel = self._linear_kernel if kernel=='linear' else self._rbf_kernel\n",
    "        \n",
    "    def fit(self, X, y):\n",
    "        from cvxopt import matrix, solvers\n",
    "        solvers.options['show_progress'] = False\n",
    "        \n",
    "        n, d = X.shape\n",
    "        \n",
    "        Q = np.outer(y, y) * self.kernel(X, X)\n",
    "        p = -np.ones(n)\n",
    "        \n",
    "        A = np.vstack((y, -y, np.eye(n)))\n",
    "        h = np.zeros(n+2)\n",
    "        \n",
    "        result = solvers.qp(*map(matrix, [Q, p, -A, h]), show_progress=False)\n",
    "        alpha = np.ravel(result['x'])\n",
    "        \n",
    "        # recover w & b\n",
    "        self.support_ = alpha > self.tol\n",
    "        self.alpha_ = alpha[self.support_]\n",
    "        self.y_ = y[self.support_]\n",
    "        self.support_vecs_ = X[self.support_, :]\n",
    "        \n",
    "        xs = X[self.support_, :][0]\n",
    "        ys = y[self.support_][0]\n",
    "        if self.kernel == self._linear_kernel:\n",
    "            self.w_ = np.dot(self.alpha_*self.y_, self.support_vecs_)        \n",
    "            assert len(self.w_) > 0, \"{}, {}\".format(self.w_, type(self.w_))   \n",
    "            self.bias_ = ys - np.dot(self.w_, xs)\n",
    "            \n",
    "        else:\n",
    "            self.bias_ = ys - np.dot(self.y_*self.alpha_, self.kernel(self.support_vecs_, xs[np.newaxis, :]))\n",
    "\n",
    "        return self\n",
    "    \n",
    "    def _linear_kernel(self, X1, X2):\n",
    "        return np.dot(X1, X2.T)\n",
    "    \n",
    "    def _rbf_kernel(self, X1, X2):\n",
    "        return rbf_kernel(X1, X2, gamma=self.gamma)\n",
    "    \n",
    "    def predict(self, X):\n",
    "        if self.kernel == self._linear_kernel:\n",
    "            return np.sign(np.dot(X, self.w_) + self.bias_)\n",
    "        else:\n",
    "            return np.sign(np.dot(self.y_*self.alpha_, \n",
    "                                  self.kernel(self.support_vecs_, X)) + self.bias_)"
   ]
  },
  {
   "cell_type": "code",
   "execution_count": 37,
   "metadata": {},
   "outputs": [
    {
     "name": "stdout",
     "output_type": "stream",
     "text": [
      "test pass\n"
     ]
    }
   ],
   "source": [
    "def test_svm_linear():\n",
    "    X = np.array([[0, 0], [2.,2], [2, 0], [3, 0]])\n",
    "    y = np.array([-1., -1, 1, 1])\n",
    "    expected_w = np.array([1, -1.])\n",
    "    expected_b = -1\n",
    "    m = MySVM().fit(X, y)\n",
    "    w = m.w_\n",
    "    b = m.bias_\n",
    "    assert np.allclose(w, expected_w), \"{} != {} [expected]\".format(w, expected_w)\n",
    "    assert np.allclose(b, expected_b), \"{} != {} [expected]\".format(b, expected_b)\n",
    "    print('test pass')\n",
    "    \n",
    "test_svm_linear()"
   ]
  },
  {
   "cell_type": "code",
   "execution_count": 52,
   "metadata": {
    "collapsed": true
   },
   "outputs": [],
   "source": [
    "def error_rate(y_true, y_pred):\n",
    "    return (y_true != y_pred).mean()"
   ]
  },
  {
   "cell_type": "code",
   "execution_count": 75,
   "metadata": {},
   "outputs": [],
   "source": [
    "N = 100\n",
    "errors = []\n",
    "for t in range(50):\n",
    "    # generate dataset\n",
    "    X = np.random.uniform(-1, 1, size=(N, 2))\n",
    "    y = f(X)\n",
    "    \n",
    "    m = MySVM(kernel='rbf', gamma=1.5).fit(X, y)\n",
    "    y_pred = m.predict(X)\n",
    "    errors.append(error_rate(y, y_pred))"
   ]
  },
  {
   "cell_type": "code",
   "execution_count": 76,
   "metadata": {},
   "outputs": [
    {
     "data": {
      "text/plain": [
       "0"
      ]
     },
     "execution_count": 76,
     "metadata": {},
     "output_type": "execute_result"
    }
   ],
   "source": [
    "(np.asarray(errors) > 0).sum()"
   ]
  },
  {
   "cell_type": "code",
   "execution_count": null,
   "metadata": {},
   "outputs": [],
   "source": []
  },
  {
   "cell_type": "code",
   "execution_count": 171,
   "metadata": {},
   "outputs": [
    {
     "data": {
      "text/plain": [
       "<matplotlib.contour.QuadContourSet at 0x7f8f3e879358>"
      ]
     },
     "execution_count": 171,
     "metadata": {},
     "output_type": "execute_result"
    },
    {
     "data": {
      "image/png": "[encoded data removed]",
      "text/plain": [
       "<matplotlib.figure.Figure at 0x7f8f3e88d4e0>"
      ]
     },
     "metadata": {},
     "output_type": "display_data"
    }
   ],
   "source": [
    "\n",
    "# random dataset\n",
    "X = np.random.uniform(-1, 1, size=(300, 2))\n",
    "y = f(X)\n",
    "\n",
    "m = MySVM(kernel='rbf', gamma=1.5).fit(X, y)\n",
    "y_pred = m.predict(X)\n",
    "\n",
    "X1, X2 = np.meshgrid(np.linspace(-1, 1, 200), np.linspace(-1, 1, 200))\n",
    "Z = m.predict(np.c_[X1.ravel(), X2.ravel()]).reshape(X1.shape)\n",
    "#Z = f(np.c_[X1.ravel(), X2.ravel()]).reshape(X1.shape)\n",
    "\n",
    "plt.figure(figsize=(10, 6))\n",
    "plt.scatter(X[:, 0], X[:, 1], c=y, marker='.')\n",
    "sv = m.support_vecs_\n",
    "plt.scatter(sv[:, 0], sv[:, 1], c='r', marker='*', s=30)\n",
    "plt.contourf(X1, X2, Z, alpha=.3)"
   ]
  },
  {
   "cell_type": "code",
   "execution_count": 197,
   "metadata": {},
   "outputs": [],
   "source": [
    "gamma = 1.5\n",
    "n_trial = 1000\n",
    "not_separable_count = 0\n",
    "\n",
    "X_out = np.random.uniform(-1, 1, size=(500, 2))\n",
    "y_out = f(X_out)\n",
    "\n",
    "E_out = {9:[], 12:[]}\n",
    "E_in = {9:[], 12:[]}\n",
    "\n",
    "data_result = {\n",
    "    'Ein[12]': [],\n",
    "    'Eout[12]': [],\n",
    "    'Ein[9]': [],\n",
    "    'Eout[9]': []\n",
    "}\n",
    "\n",
    "for n in range(n_trial):\n",
    "    \n",
    "    # generate dataset\n",
    "    X_in = np.random.uniform(-1, 1, size=(N, 2))\n",
    "    y_in = f(X_in)\n",
    "    \n",
    "    rbf_9 = RBF_Model(k=9, gamma=1.5).fit(X_in, y_in)\n",
    "    rbf_12 = RBF_Model(k=12, gamma=1.5).fit(X_in, y_in)\n",
    "    \n",
    "    y_in_9_pred = rbf_9.predict(X_in)\n",
    "    y_out_9_pred = rbf_9.predict(X_out)\n",
    "    y_in_12_pred = rbf_12.predict(X_in)\n",
    "    y_out_12_pred = rbf_12.predict(X_out)\n",
    "    \n",
    "    data_result['Ein[12]'].append(error_rate(y_in, y_in_12_pred))\n",
    "    data_result['Eout[12]'].append(error_rate(y_out, y_out_12_pred))\n",
    "    data_result['Ein[9]'].append(error_rate(y_in, y_in_9_pred))\n",
    "    data_result['Eout[9]'].append(error_rate(y_out, y_out_9_pred))"
   ]
  },
  {
   "cell_type": "code",
   "execution_count": 198,
   "metadata": {},
   "outputs": [
    {
     "data": {
      "text/html": [
       "<div>\n",
       "<table border=\"1\" class=\"dataframe\">\n",
       "  <thead>\n",
       "    <tr style=\"text-align: right;\">\n",
       "      <th></th>\n",
       "      <th>Ein[12]</th>\n",
       "      <th>Ein[9]</th>\n",
       "      <th>Eout[12]</th>\n",
       "      <th>Eout[9]</th>\n",
       "    </tr>\n",
       "  </thead>\n",
       "  <tbody>\n",
       "    <tr>\n",
       "      <th>0</th>\n",
       "      <td>0.03</td>\n",
       "      <td>0.06</td>\n",
       "      <td>0.030</td>\n",
       "      <td>0.056</td>\n",
       "    </tr>\n",
       "    <tr>\n",
       "      <th>1</th>\n",
       "      <td>0.03</td>\n",
       "      <td>0.06</td>\n",
       "      <td>0.034</td>\n",
       "      <td>0.062</td>\n",
       "    </tr>\n",
       "    <tr>\n",
       "      <th>2</th>\n",
       "      <td>0.02</td>\n",
       "      <td>0.05</td>\n",
       "      <td>0.016</td>\n",
       "      <td>0.036</td>\n",
       "    </tr>\n",
       "    <tr>\n",
       "      <th>3</th>\n",
       "      <td>0.04</td>\n",
       "      <td>0.06</td>\n",
       "      <td>0.034</td>\n",
       "      <td>0.058</td>\n",
       "    </tr>\n",
       "    <tr>\n",
       "      <th>4</th>\n",
       "      <td>0.02</td>\n",
       "      <td>0.02</td>\n",
       "      <td>0.060</td>\n",
       "      <td>0.054</td>\n",
       "    </tr>\n",
       "  </tbody>\n",
       "</table>\n",
       "</div>"
      ],
      "text/plain": [
       "   Ein[12]  Ein[9]  Eout[12]  Eout[9]\n",
       "0     0.03    0.06     0.030    0.056\n",
       "1     0.03    0.06     0.034    0.062\n",
       "2     0.02    0.05     0.016    0.036\n",
       "3     0.04    0.06     0.034    0.058\n",
       "4     0.02    0.02     0.060    0.054"
      ]
     },
     "execution_count": 198,
     "metadata": {},
     "output_type": "execute_result"
    }
   ],
   "source": [
    "df = pd.DataFrame(data_result)\n",
    "df.head()"
   ]
  },
  {
   "cell_type": "code",
   "execution_count": 199,
   "metadata": {
    "collapsed": true
   },
   "outputs": [],
   "source": [
    "E_in_down = df['Ein[12]'] < df['Ein[9]']\n",
    "E_in_up = df['Ein[12]'] > df['Ein[9]']\n",
    "E_out_down = df['Eout[12]'] < df['Eout[9]']\n",
    "E_out_up = df['Eout[12]'] > df['Eout[9]']"
   ]
  },
  {
   "cell_type": "code",
   "execution_count": 200,
   "metadata": {},
   "outputs": [
    {
     "name": "stdout",
     "output_type": "stream",
     "text": [
      "a : 16.6000%\n",
      "b: 4.0000%\n",
      "c: 5.0000%\n",
      "d : 47.6000%\n",
      "e : 2.1000%\n"
     ]
    }
   ],
   "source": [
    "a = (E_in_down & E_out_up).mean() * 100\n",
    "b = (E_in_up & E_out_down).mean() * 100\n",
    "c = (E_in_up & E_out_up).mean() * 100\n",
    "d = (E_in_down & E_out_down).mean() * 100\n",
    "e = (~(E_in_down | E_in_up) & ~(E_out_down | E_out_up)).mean() * 100\n",
    "print(\"a : {:.4f}%\\nb: {:.4f}%\\nc: {:.4f}%\\nd : {:.4f}%\\ne : {:.4f}%\".format(a, b, c, d, e))"
   ]
  },
  {
   "cell_type": "code",
   "execution_count": 206,
   "metadata": {
    "collapsed": true
   },
   "outputs": [],
   "source": [
    "K = 9\n",
    "gamma = 1.5, 2\n",
    "\n",
    "data_result = {\n",
    "    'Ein[1.5]': [],\n",
    "    'Eout[1.5]': [],\n",
    "    'Ein[2]': [],\n",
    "    'Eout[2]': []\n",
    "}\n",
    "\n",
    "X_out = np.random.uniform(-1, 1, size=(500, 2))\n",
    "y_out = f(X_out)\n",
    "\n",
    "for _ in range(500):\n",
    "    \n",
    "    # generate dataset\n",
    "    X_in = np.random.uniform(-1, 1, size=(N, 2))\n",
    "    y_in = f(X_in)\n",
    "    \n",
    "    rbf_20 = RBF_Model(k=9, gamma=2.0).fit(X_in, y_in)\n",
    "    rbf_15 = RBF_Model(k=9, gamma=1.5).fit(X_in, y_in)\n",
    "    \n",
    "    y_in_15_pred = rbf_15.predict(X_in)\n",
    "    y_out_15_pred = rbf_15.predict(X_out)\n",
    "    y_in_20_pred = rbf_20.predict(X_in)\n",
    "    y_out_20_pred = rbf_20.predict(X_out)\n",
    "    \n",
    "    data_result['Ein[1.5]'].append(error_rate(y_in, y_in_15_pred))\n",
    "    data_result['Eout[1.5]'].append(error_rate(y_out, y_out_15_pred))\n",
    "    data_result['Ein[2]'].append(error_rate(y_in, y_in_20_pred))\n",
    "    data_result['Eout[2]'].append(error_rate(y_out, y_out_20_pred))"
   ]
  },
  {
   "cell_type": "code",
   "execution_count": 207,
   "metadata": {},
   "outputs": [
    {
     "data": {
      "text/html": [
       "<div>\n",
       "<table border=\"1\" class=\"dataframe\">\n",
       "  <thead>\n",
       "    <tr style=\"text-align: right;\">\n",
       "      <th></th>\n",
       "      <th>Ein[1.5]</th>\n",
       "      <th>Ein[2]</th>\n",
       "      <th>Eout[1.5]</th>\n",
       "      <th>Eout[2]</th>\n",
       "    </tr>\n",
       "  </thead>\n",
       "  <tbody>\n",
       "    <tr>\n",
       "      <th>0</th>\n",
       "      <td>0.04</td>\n",
       "      <td>0.06</td>\n",
       "      <td>0.086</td>\n",
       "      <td>0.100</td>\n",
       "    </tr>\n",
       "    <tr>\n",
       "      <th>1</th>\n",
       "      <td>0.03</td>\n",
       "      <td>0.02</td>\n",
       "      <td>0.066</td>\n",
       "      <td>0.058</td>\n",
       "    </tr>\n",
       "    <tr>\n",
       "      <th>2</th>\n",
       "      <td>0.03</td>\n",
       "      <td>0.02</td>\n",
       "      <td>0.066</td>\n",
       "      <td>0.078</td>\n",
       "    </tr>\n",
       "    <tr>\n",
       "      <th>3</th>\n",
       "      <td>0.03</td>\n",
       "      <td>0.03</td>\n",
       "      <td>0.048</td>\n",
       "      <td>0.054</td>\n",
       "    </tr>\n",
       "    <tr>\n",
       "      <th>4</th>\n",
       "      <td>0.06</td>\n",
       "      <td>0.04</td>\n",
       "      <td>0.054</td>\n",
       "      <td>0.050</td>\n",
       "    </tr>\n",
       "  </tbody>\n",
       "</table>\n",
       "</div>"
      ],
      "text/plain": [
       "   Ein[1.5]  Ein[2]  Eout[1.5]  Eout[2]\n",
       "0      0.04    0.06      0.086    0.100\n",
       "1      0.03    0.02      0.066    0.058\n",
       "2      0.03    0.02      0.066    0.078\n",
       "3      0.03    0.03      0.048    0.054\n",
       "4      0.06    0.04      0.054    0.050"
      ]
     },
     "execution_count": 207,
     "metadata": {},
     "output_type": "execute_result"
    }
   ],
   "source": [
    "df = pd.DataFrame(data_result)\n",
    "df.head()"
   ]
  },
  {
   "cell_type": "code",
   "execution_count": 208,
   "metadata": {
    "collapsed": true
   },
   "outputs": [],
   "source": [
    "E_in_up = df['Ein[2]'] > df['Ein[1.5]']\n",
    "E_in_down = df['Ein[2]'] < df['Ein[1.5]']\n",
    "E_out_up = df['Eout[2]'] > df['Eout[1.5]']\n",
    "E_out_down = df['Eout[2]'] < df['Eout[1.5]']"
   ]
  },
  {
   "cell_type": "code",
   "execution_count": 209,
   "metadata": {},
   "outputs": [
    {
     "name": "stdout",
     "output_type": "stream",
     "text": [
      "a : 6.4000%\n",
      "b: 7.8000%\n",
      "c: 37.2000%\n",
      "d : 11.0000%\n",
      "e : 5.0000%\n"
     ]
    }
   ],
   "source": [
    "a = (E_in_down & E_out_up).mean() * 100\n",
    "b = (E_in_up & E_out_down).mean() * 100\n",
    "c = (E_in_up & E_out_up).mean() * 100\n",
    "d = (E_in_down & E_out_down).mean() * 100\n",
    "e = (~(E_in_down | E_in_up) & ~(E_out_down | E_out_up)).mean() * 100\n",
    "print(\"a : {:.4f}%\\nb: {:.4f}%\\nc: {:.4f}%\\nd : {:.4f}%\\ne : {:.4f}%\".format(a, b, c, d, e))"
   ]
  },
  {
   "cell_type": "code",
   "execution_count": 185,
   "metadata": {
    "collapsed": true
   },
   "outputs": [],
   "source": [
    "K = 9\n",
    "gamma = 1.5\n",
    "N = 100\n",
    "\n",
    "data_result = {\n",
    "    'Ein[rbf]': [],\n",
    "    'Eout[rbf]': [],\n",
    "    'Ein[svm]': [],\n",
    "    'Eout[svm]': []\n",
    "}\n",
    "\n",
    "X_out = np.random.uniform(-1, 1, size=(500, 2))\n",
    "y_out = f(X_out)\n",
    "\n",
    "trials = 300\n",
    "for _ in range(trials):\n",
    "    \n",
    "    # generate data\n",
    "    X_in = np.random.uniform(-1, 1, size=(N, 2))\n",
    "    y_in = f(X_in)\n",
    "    \n",
    "    rbf = RBF_Model(k=K, gamma=gamma).fit(X_in, y_in)\n",
    "    svm = MySVM(kernel='rbf', gamma=gamma).fit(X_in, y_in)\n",
    "    \n",
    "    y_in_pred_rbf = rbf.predict(X_in)\n",
    "    y_out_pred_rbf = rbf.predict(X_out)\n",
    "    y_in_pred_svm = svm.predict(X_in)\n",
    "    y_out_pred_svm = svm.predict(X_out)\n",
    "    \n",
    "    data_result['Ein[rbf]'].append(error_rate(y_in, y_in_pred_rbf))\n",
    "    data_result['Eout[rbf]'].append(error_rate(y_out, y_out_pred_rbf))\n",
    "    data_result['Ein[svm]'].append(error_rate(y_in, y_in_pred_svm))\n",
    "    data_result['Eout[svm]'].append(error_rate(y_out, y_out_pred_svm))"
   ]
  },
  {
   "cell_type": "code",
   "execution_count": 186,
   "metadata": {
    "collapsed": true
   },
   "outputs": [],
   "source": [
    "df = pd.DataFrame(data_result)"
   ]
  },
  {
   "cell_type": "code",
   "execution_count": 184,
   "metadata": {},
   "outputs": [
    {
     "data": {
      "text/plain": [
       "0.77000000000000002"
      ]
     },
     "execution_count": 184,
     "metadata": {},
     "output_type": "execute_result"
    }
   ],
   "source": [
    "# K=12\n",
    "E_out_svm_better = (df['Eout[svm]'] < df['Eout[rbf]']).mean()\n",
    "E_out_svm_better"
   ]
  },
  {
   "cell_type": "code",
   "execution_count": 187,
   "metadata": {},
   "outputs": [
    {
     "data": {
      "text/plain": [
       "0.8666666666666667"
      ]
     },
     "execution_count": 187,
     "metadata": {},
     "output_type": "execute_result"
    }
   ],
   "source": [
    "# K=9\n",
    "E_out_svm_better = (df['Eout[svm]'] < df['Eout[rbf]']).mean()\n",
    "E_out_svm_better"
   ]
  },
  {
   "cell_type": "code",
   "execution_count": 212,
   "metadata": {},
   "outputs": [
    {
     "name": "stdout",
     "output_type": "stream",
     "text": [
      "2.3333333333333335\n"
     ]
    }
   ],
   "source": [
    "E_in_zero = 0\n",
    "trials = 600\n",
    "for _ in range(trials):\n",
    "    \n",
    "    X_in = np.random.uniform(-1, 1, size=(N, 2))\n",
    "    y_in = f(X_in)\n",
    "    \n",
    "    rbf = RBF_Model(k=9, gamma=1.5).fit(X_in, y_in)\n",
    "    y_in_pred = rbf.predict(X_in)\n",
    "    \n",
    "    if error_rate(y_in, y_in_pred) == 0:\n",
    "        E_in_zero += 1\n",
    "        \n",
    "print(E_in_zero*100/trials)"
   ]
  },
  {
   "cell_type": "code",
   "execution_count": null,
   "metadata": {
    "collapsed": true
   },
   "outputs": [],
   "source": []
  }
 ],
 "metadata": {
  "kernelspec": {
   "display_name": "Python [conda env:anaconda3]",
   "language": "python",
   "name": "conda-env-anaconda3-py"
  },
  "language_info": {
   "codemirror_mode": {
    "name": "ipython",
    "version": 3
   },
   "file_extension": ".py",
   "mimetype": "text/x-python",
   "name": "python",
   "nbconvert_exporter": "python",
   "pygments_lexer": "ipython3",
   "version": "3.6.4"
  }
 },
 "nbformat": 4,
 "nbformat_minor": 2
}
