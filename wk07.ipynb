{
 "cells": [
  {
   "cell_type": "code",
   "execution_count": 40,
   "metadata": {
    "collapsed": true
   },
   "outputs": [],
   "source": [
    "import numpy as np\n",
    "import pandas as pd\n",
    "import matplotlib.pyplot as plt\n",
    "\n",
    "%matplotlib inline"
   ]
  },
  {
   "cell_type": "code",
   "execution_count": 2,
   "metadata": {
    "collapsed": false
   },
   "outputs": [],
   "source": [
    "from cvxopt import matrix, solvers"
   ]
  },
  {
   "cell_type": "code",
   "execution_count": 3,
   "metadata": {
    "collapsed": true
   },
   "outputs": [],
   "source": [
    "Q = np.array([[0, 0, 0],\n",
    "             [0, 1, 0],\n",
    "             [0, 0, 1]], dtype=float)\n",
    "\n",
    "P = np.zeros(3)\n",
    "\n",
    "A = np.array([[-1., 0, 0],\n",
    "             [-1, -2, -2],\n",
    "             [1, 2, 0],\n",
    "             [1, 3, 0.]])\n",
    "\n",
    "c = np.ones(4)"
   ]
  },
  {
   "cell_type": "code",
   "execution_count": 4,
   "metadata": {
    "collapsed": false
   },
   "outputs": [],
   "source": [
    "args = [matrix(Q), matrix(P), matrix(-A), matrix(-c)]"
   ]
  },
  {
   "cell_type": "code",
   "execution_count": 5,
   "metadata": {
    "collapsed": false
   },
   "outputs": [
    {
     "name": "stdout",
     "output_type": "stream",
     "text": [
      "     pcost       dcost       gap    pres   dres\n",
      " 0:  3.2653e-01  1.9592e+00  6e+00  2e+00  4e+00\n",
      " 1:  1.5796e+00  8.5663e-01  7e-01  2e-16  2e-15\n",
      " 2:  1.0195e+00  9.9227e-01  3e-02  2e-16  6e-16\n",
      " 3:  1.0002e+00  9.9992e-01  3e-04  1e-16  2e-15\n",
      " 4:  1.0000e+00  1.0000e+00  3e-06  2e-16  2e-15\n",
      " 5:  1.0000e+00  1.0000e+00  3e-08  0e+00  1e-15\n",
      "Optimal solution found.\n"
     ]
    }
   ],
   "source": [
    "result = solvers.qp(*args)"
   ]
  },
  {
   "cell_type": "code",
   "execution_count": 6,
   "metadata": {
    "collapsed": false
   },
   "outputs": [
    {
     "data": {
      "text/plain": [
       "array([[-1.00000001],\n",
       "       [ 1.00000001],\n",
       "       [-1.00000001]])"
      ]
     },
     "execution_count": 6,
     "metadata": {},
     "output_type": "execute_result"
    }
   ],
   "source": [
    "w = np.array(result['x'])\n",
    "w"
   ]
  },
  {
   "cell_type": "code",
   "execution_count": 7,
   "metadata": {
    "collapsed": false
   },
   "outputs": [
    {
     "data": {
      "text/plain": [
       "array([[ 1.00000001],\n",
       "       [ 1.00000002],\n",
       "       [ 1.        ],\n",
       "       [ 2.00000001]])"
      ]
     },
     "execution_count": 7,
     "metadata": {},
     "output_type": "execute_result"
    }
   ],
   "source": [
    "np.dot(A, w)"
   ]
  },
  {
   "cell_type": "code",
   "execution_count": 8,
   "metadata": {
    "collapsed": true
   },
   "outputs": [],
   "source": [
    "X = np.array([[0, 0], [2, 2], [2, 0.], [3, 0.]])\n",
    "y = np.array([-1., -1, 1, 1])\n"
   ]
  },
  {
   "cell_type": "code",
   "execution_count": 9,
   "metadata": {
    "collapsed": false
   },
   "outputs": [
    {
     "data": {
      "text/plain": [
       "array([[ 0.,  0.,  0.,  0.],\n",
       "       [ 0.,  8., -4., -6.],\n",
       "       [ 0., -4.,  4.,  6.],\n",
       "       [ 0., -6.,  6.,  9.]])"
      ]
     },
     "execution_count": 9,
     "metadata": {},
     "output_type": "execute_result"
    }
   ],
   "source": [
    "Q = np.dot(y[:, np.newaxis]*X, X.T*y[np.newaxis, :])\n",
    "Q"
   ]
  },
  {
   "cell_type": "code",
   "execution_count": 10,
   "metadata": {
    "collapsed": false
   },
   "outputs": [
    {
     "data": {
      "text/plain": [
       "array([[-1., -1.,  1.,  1.],\n",
       "       [ 1.,  1., -1., -1.],\n",
       "       [ 1.,  0.,  0.,  0.],\n",
       "       [ 0.,  1.,  0.,  0.],\n",
       "       [ 0.,  0.,  1.,  0.],\n",
       "       [ 0.,  0.,  0.,  1.]])"
      ]
     },
     "execution_count": 10,
     "metadata": {},
     "output_type": "execute_result"
    }
   ],
   "source": [
    "A = np.vstack((y, -y, np.identity(len(y))))\n",
    "A"
   ]
  },
  {
   "cell_type": "code",
   "execution_count": 11,
   "metadata": {
    "collapsed": false
   },
   "outputs": [],
   "source": [
    "p = -np.ones(len(y))\n",
    "c = np.zeros(len(A))"
   ]
  },
  {
   "cell_type": "code",
   "execution_count": 12,
   "metadata": {
    "collapsed": false
   },
   "outputs": [
    {
     "name": "stdout",
     "output_type": "stream",
     "text": [
      "     pcost       dcost       gap    pres   dres\n",
      " 0: -1.0249e+00 -2.3063e+00  1e+01  3e+00  2e+00\n",
      " 1: -8.2851e-01 -1.7889e+00  1e+00  1e-01  6e-02\n",
      " 2: -9.8330e-01 -1.0720e+00  1e-01  4e-03  2e-03\n",
      " 3: -9.9979e-01 -1.0008e+00  1e-03  4e-05  2e-05\n",
      " 4: -1.0000e+00 -1.0000e+00  1e-05  4e-07  2e-07\n",
      " 5: -1.0000e+00 -1.0000e+00  1e-07  4e-09  2e-09\n",
      "Optimal solution found.\n"
     ]
    }
   ],
   "source": [
    "result = solvers.qp(*map(matrix, [Q, p, -A, c]))"
   ]
  },
  {
   "cell_type": "code",
   "execution_count": 13,
   "metadata": {
    "collapsed": false
   },
   "outputs": [
    {
     "data": {
      "text/plain": [
       "array([[  5.00000005e-01],\n",
       "       [  5.00000022e-01],\n",
       "       [  1.00000000e+00],\n",
       "       [  2.20495928e-08]])"
      ]
     },
     "execution_count": 13,
     "metadata": {},
     "output_type": "execute_result"
    }
   ],
   "source": [
    "coef = np.array(result['x'])\n",
    "coef"
   ]
  },
  {
   "cell_type": "code",
   "execution_count": 14,
   "metadata": {
    "collapsed": false
   },
   "outputs": [
    {
     "data": {
      "text/plain": [
       "array([ 1.00000003, -1.00000004])"
      ]
     },
     "execution_count": 14,
     "metadata": {},
     "output_type": "execute_result"
    }
   ],
   "source": [
    "w = np.dot(y*coef.ravel(), X)\n",
    "w"
   ]
  },
  {
   "cell_type": "code",
   "execution_count": 15,
   "metadata": {
    "collapsed": false
   },
   "outputs": [
    {
     "data": {
      "text/plain": [
       "array([-1.        , -0.99999997, -1.00000006, -2.00000009])"
      ]
     },
     "execution_count": 15,
     "metadata": {},
     "output_type": "execute_result"
    }
   ],
   "source": [
    "y - np.dot(X, w)"
   ]
  },
  {
   "cell_type": "markdown",
   "metadata": {
    "collapsed": true
   },
   "source": [
    "### Validation [ex.1-ex.5]"
   ]
  },
  {
   "cell_type": "code",
   "execution_count": 30,
   "metadata": {
    "collapsed": true
   },
   "outputs": [],
   "source": [
    "from sklearn.linear_model import LinearRegression"
   ]
  },
  {
   "cell_type": "code",
   "execution_count": 16,
   "metadata": {
    "collapsed": true
   },
   "outputs": [],
   "source": [
    "data_in = np.loadtxt('in.dta')\n",
    "data_out = np.loadtxt('out.dta')"
   ]
  },
  {
   "cell_type": "code",
   "execution_count": 26,
   "metadata": {
    "collapsed": false
   },
   "outputs": [],
   "source": [
    "X_in = data_in[:, :-1]\n",
    "y_in = data_in[:, -1]\n",
    "\n",
    "X_out = data_out[:, :-1]\n",
    "y_out = data_out[:, -1]"
   ]
  },
  {
   "cell_type": "code",
   "execution_count": 27,
   "metadata": {
    "collapsed": false
   },
   "outputs": [
    {
     "data": {
      "text/plain": [
       "(-1.0590629633243727,\n",
       " 1.1091193133243729,\n",
       " -0.94462697244150096,\n",
       " 0.99745059244150114)"
      ]
     },
     "execution_count": 27,
     "metadata": {},
     "output_type": "execute_result"
    },
    {
     "data": {
      "image/png": "[encoded data removed]",
      "text/plain": [
       "<matplotlib.figure.Figure at 0x7f13d6d5db70>"
      ]
     },
     "metadata": {},
     "output_type": "display_data"
    }
   ],
   "source": [
    "plt.scatter(X_in[:, 0], X_in[:, 1], c=y_in)\n",
    "plt.axis('equal')"
   ]
  },
  {
   "cell_type": "code",
   "execution_count": 20,
   "metadata": {
    "collapsed": true
   },
   "outputs": [],
   "source": [
    "def transfrom_X(X):\n",
    "    '''transform vector from [x1, x2] \n",
    "    to [1, x1, x2, x1**2, x2**2, x1*x2, |x1-x2|, |x1+x2|]'''\n",
    "    x1, x2 = X.T\n",
    "    return np.c_[np.ones(len(X)), x1, x2, x1**2, x2**2, x1*x2, np.abs(x1 - x2), np.abs(x1 + x2)]"
   ]
  },
  {
   "cell_type": "code",
   "execution_count": 28,
   "metadata": {
    "collapsed": false
   },
   "outputs": [],
   "source": [
    "Z_in = transfrom_X(X_in)\n",
    "Z_out = transfrom_X(X_out)"
   ]
  },
  {
   "cell_type": "code",
   "execution_count": 29,
   "metadata": {
    "collapsed": false
   },
   "outputs": [
    {
     "data": {
      "text/plain": [
       "((35, 8), (250, 8))"
      ]
     },
     "execution_count": 29,
     "metadata": {},
     "output_type": "execute_result"
    }
   ],
   "source": [
    "Z_in.shape, Z_out.shape"
   ]
  },
  {
   "cell_type": "code",
   "execution_count": 52,
   "metadata": {
    "collapsed": true
   },
   "outputs": [],
   "source": [
    "class MyLinReg:\n",
    "    \n",
    "    def __init__(self):\n",
    "        self.model = LinearRegression(fit_intercept=False)\n",
    "        \n",
    "    def fit(self, X, y):\n",
    "        self.model.fit(X, y)\n",
    "        return self\n",
    "    \n",
    "    def predict(self, X):\n",
    "        y_pred = self.model.predict(X)\n",
    "        return np.sign(y_pred)\n",
    "    \n",
    "    def classification_error(self, X, y):\n",
    "        y_pred = self.predict(X)\n",
    "        return (y_pred != y).mean()"
   ]
  },
  {
   "cell_type": "markdown",
   "metadata": {},
   "source": [
    "#### 1) D_train = 25, D_val = 10 samples"
   ]
  },
  {
   "cell_type": "code",
   "execution_count": 38,
   "metadata": {
    "collapsed": false
   },
   "outputs": [
    {
     "data": {
      "text/plain": [
       "((25, 8), (10, 8), (25,), (10,))"
      ]
     },
     "execution_count": 38,
     "metadata": {},
     "output_type": "execute_result"
    }
   ],
   "source": [
    "Z_train = Z_in[:25]\n",
    "Z_val = Z_in[25:]\n",
    "y_train = y_in[:25]\n",
    "y_val = y_in[25:]\n",
    "\n",
    "Z_train.shape, Z_val.shape, y_train.shape, y_val.shape"
   ]
  },
  {
   "cell_type": "code",
   "execution_count": 68,
   "metadata": {
    "collapsed": true
   },
   "outputs": [],
   "source": [
    "k_list = [3, 4, 5, 6, 7]\n",
    "E_val_25 = []\n",
    "\n",
    "for k in k_list:\n",
    "    m = MyLinReg().fit(Z_train[:, :k+1], y_train)\n",
    "    E_val_25.append(m.classification_error(Z_val[:, :k+1], y_val))"
   ]
  },
  {
   "cell_type": "code",
   "execution_count": 69,
   "metadata": {
    "collapsed": false
   },
   "outputs": [
    {
     "data": {
      "text/html": [
       "<div>\n",
       "<table border=\"1\" class=\"dataframe\">\n",
       "  <thead>\n",
       "    <tr style=\"text-align: right;\">\n",
       "      <th></th>\n",
       "      <th>E_val</th>\n",
       "      <th>k</th>\n",
       "    </tr>\n",
       "  </thead>\n",
       "  <tbody>\n",
       "    <tr>\n",
       "      <th>0</th>\n",
       "      <td>0.3</td>\n",
       "      <td>3</td>\n",
       "    </tr>\n",
       "    <tr>\n",
       "      <th>1</th>\n",
       "      <td>0.5</td>\n",
       "      <td>4</td>\n",
       "    </tr>\n",
       "    <tr>\n",
       "      <th>2</th>\n",
       "      <td>0.2</td>\n",
       "      <td>5</td>\n",
       "    </tr>\n",
       "    <tr>\n",
       "      <th>3</th>\n",
       "      <td>0.0</td>\n",
       "      <td>6</td>\n",
       "    </tr>\n",
       "    <tr>\n",
       "      <th>4</th>\n",
       "      <td>0.1</td>\n",
       "      <td>7</td>\n",
       "    </tr>\n",
       "  </tbody>\n",
       "</table>\n",
       "</div>"
      ],
      "text/plain": [
       "   E_val  k\n",
       "0    0.3  3\n",
       "1    0.5  4\n",
       "2    0.2  5\n",
       "3    0.0  6\n",
       "4    0.1  7"
      ]
     },
     "execution_count": 69,
     "metadata": {},
     "output_type": "execute_result"
    }
   ],
   "source": [
    "pd.DataFrame({'k': k_list, 'E_val': E_val_25})"
   ]
  },
  {
   "cell_type": "markdown",
   "metadata": {},
   "source": [
    "#### 2)  D_train = 25, D_val = 10, => evaluate on D_out"
   ]
  },
  {
   "cell_type": "code",
   "execution_count": 77,
   "metadata": {
    "collapsed": true
   },
   "outputs": [],
   "source": [
    "E_out_25 = []\n",
    "for k in k_list:\n",
    "    m = MyLinReg().fit(Z_train[:, :k+1], y_train)\n",
    "    E_out_25.append(m.classification_error(Z_out[:, :k+1], y_out))"
   ]
  },
  {
   "cell_type": "code",
   "execution_count": 78,
   "metadata": {
    "collapsed": false
   },
   "outputs": [
    {
     "data": {
      "text/html": [
       "<div>\n",
       "<table border=\"1\" class=\"dataframe\">\n",
       "  <thead>\n",
       "    <tr style=\"text-align: right;\">\n",
       "      <th></th>\n",
       "      <th>E_out</th>\n",
       "      <th>k</th>\n",
       "    </tr>\n",
       "  </thead>\n",
       "  <tbody>\n",
       "    <tr>\n",
       "      <th>0</th>\n",
       "      <td>0.420</td>\n",
       "      <td>3</td>\n",
       "    </tr>\n",
       "    <tr>\n",
       "      <th>1</th>\n",
       "      <td>0.416</td>\n",
       "      <td>4</td>\n",
       "    </tr>\n",
       "    <tr>\n",
       "      <th>2</th>\n",
       "      <td>0.188</td>\n",
       "      <td>5</td>\n",
       "    </tr>\n",
       "    <tr>\n",
       "      <th>3</th>\n",
       "      <td>0.084</td>\n",
       "      <td>6</td>\n",
       "    </tr>\n",
       "    <tr>\n",
       "      <th>4</th>\n",
       "      <td>0.072</td>\n",
       "      <td>7</td>\n",
       "    </tr>\n",
       "  </tbody>\n",
       "</table>\n",
       "</div>"
      ],
      "text/plain": [
       "   E_out  k\n",
       "0  0.420  3\n",
       "1  0.416  4\n",
       "2  0.188  5\n",
       "3  0.084  6\n",
       "4  0.072  7"
      ]
     },
     "execution_count": 78,
     "metadata": {},
     "output_type": "execute_result"
    }
   ],
   "source": [
    "pd.DataFrame({'k': k_list, 'E_out': E_out_25})"
   ]
  },
  {
   "cell_type": "code",
   "execution_count": 79,
   "metadata": {
    "collapsed": false
   },
   "outputs": [
    {
     "data": {
      "text/plain": [
       "<matplotlib.text.Text at 0x7f13bea6eba8>"
      ]
     },
     "execution_count": 79,
     "metadata": {},
     "output_type": "execute_result"
    },
    {
     "data": {
      "image/png": "[encoded data removed]",
      "text/plain": [
       "<matplotlib.figure.Figure at 0x7f13c03f8908>"
      ]
     },
     "metadata": {},
     "output_type": "display_data"
    }
   ],
   "source": [
    "plt.plot(k_list, E_val_25, 'ro-', label='E_val')\n",
    "plt.plot(k_list, E_out_25, 'bx--', label='E_out')\n",
    "plt.legend()\n",
    "plt.ylim([0, 1])\n",
    "plt.xlabel('k')\n",
    "plt.ylabel('misclassification rate')"
   ]
  },
  {
   "cell_type": "markdown",
   "metadata": {},
   "source": [
    "#### 3) D_train = 10, D_val = 25 => evaluate on D_val"
   ]
  },
  {
   "cell_type": "code",
   "execution_count": 75,
   "metadata": {
    "collapsed": true
   },
   "outputs": [],
   "source": [
    "E_val_10 = []\n",
    "\n",
    "for k in k_list:\n",
    "    m = MyLinReg().fit(Z_val[:, :k+1], y_val)\n",
    "    E_val_10.append(m.classification_error(Z_train[:, :k+1], y_train))"
   ]
  },
  {
   "cell_type": "code",
   "execution_count": 76,
   "metadata": {
    "collapsed": false
   },
   "outputs": [
    {
     "data": {
      "text/html": [
       "<div>\n",
       "<table border=\"1\" class=\"dataframe\">\n",
       "  <thead>\n",
       "    <tr style=\"text-align: right;\">\n",
       "      <th></th>\n",
       "      <th>E_val</th>\n",
       "      <th>k</th>\n",
       "    </tr>\n",
       "  </thead>\n",
       "  <tbody>\n",
       "    <tr>\n",
       "      <th>0</th>\n",
       "      <td>0.28</td>\n",
       "      <td>3</td>\n",
       "    </tr>\n",
       "    <tr>\n",
       "      <th>1</th>\n",
       "      <td>0.36</td>\n",
       "      <td>4</td>\n",
       "    </tr>\n",
       "    <tr>\n",
       "      <th>2</th>\n",
       "      <td>0.20</td>\n",
       "      <td>5</td>\n",
       "    </tr>\n",
       "    <tr>\n",
       "      <th>3</th>\n",
       "      <td>0.08</td>\n",
       "      <td>6</td>\n",
       "    </tr>\n",
       "    <tr>\n",
       "      <th>4</th>\n",
       "      <td>0.12</td>\n",
       "      <td>7</td>\n",
       "    </tr>\n",
       "  </tbody>\n",
       "</table>\n",
       "</div>"
      ],
      "text/plain": [
       "   E_val  k\n",
       "0   0.28  3\n",
       "1   0.36  4\n",
       "2   0.20  5\n",
       "3   0.08  6\n",
       "4   0.12  7"
      ]
     },
     "execution_count": 76,
     "metadata": {},
     "output_type": "execute_result"
    }
   ],
   "source": [
    "pd.DataFrame({'k':k_list, 'E_val': E_val_10})"
   ]
  },
  {
   "cell_type": "markdown",
   "metadata": {},
   "source": [
    "#### 4) D_train = 10, D_val = 25 => evaluate on D_out"
   ]
  },
  {
   "cell_type": "code",
   "execution_count": 80,
   "metadata": {
    "collapsed": false
   },
   "outputs": [
    {
     "data": {
      "text/html": [
       "<div>\n",
       "<table border=\"1\" class=\"dataframe\">\n",
       "  <thead>\n",
       "    <tr style=\"text-align: right;\">\n",
       "      <th></th>\n",
       "      <th>E_out</th>\n",
       "      <th>k</th>\n",
       "    </tr>\n",
       "  </thead>\n",
       "  <tbody>\n",
       "    <tr>\n",
       "      <th>0</th>\n",
       "      <td>0.396</td>\n",
       "      <td>3</td>\n",
       "    </tr>\n",
       "    <tr>\n",
       "      <th>1</th>\n",
       "      <td>0.388</td>\n",
       "      <td>4</td>\n",
       "    </tr>\n",
       "    <tr>\n",
       "      <th>2</th>\n",
       "      <td>0.284</td>\n",
       "      <td>5</td>\n",
       "    </tr>\n",
       "    <tr>\n",
       "      <th>3</th>\n",
       "      <td>0.192</td>\n",
       "      <td>6</td>\n",
       "    </tr>\n",
       "    <tr>\n",
       "      <th>4</th>\n",
       "      <td>0.196</td>\n",
       "      <td>7</td>\n",
       "    </tr>\n",
       "  </tbody>\n",
       "</table>\n",
       "</div>"
      ],
      "text/plain": [
       "   E_out  k\n",
       "0  0.396  3\n",
       "1  0.388  4\n",
       "2  0.284  5\n",
       "3  0.192  6\n",
       "4  0.196  7"
      ]
     },
     "execution_count": 80,
     "metadata": {},
     "output_type": "execute_result"
    }
   ],
   "source": [
    "E_out_10 = []\n",
    "for k in k_list:\n",
    "    m = MyLinReg().fit(Z_val[:, :k+1], y_val)\n",
    "    E_out_10.append(m.classification_error(Z_out[:, :k+1], y_out))\n",
    "    \n",
    "pd.DataFrame({'k': k_list, 'E_out': E_out_10})"
   ]
  },
  {
   "cell_type": "code",
   "execution_count": 81,
   "metadata": {
    "collapsed": false
   },
   "outputs": [
    {
     "data": {
      "text/plain": [
       "<matplotlib.text.Text at 0x7f13be8c8a90>"
      ]
     },
     "execution_count": 81,
     "metadata": {},
     "output_type": "execute_result"
    },
    {
     "data": {
      "image/png": "[encoded data removed]",
      "text/plain": [
       "<matplotlib.figure.Figure at 0x7f13c037b630>"
      ]
     },
     "metadata": {},
     "output_type": "display_data"
    }
   ],
   "source": [
    "plt.plot(k_list, E_val_10, 'ro-', label='E_val')\n",
    "plt.plot(k_list, E_out_10, 'bx-', label='E_out')\n",
    "plt.ylim([0, 1])\n",
    "plt.legend()\n",
    "plt.xlabel('k')\n",
    "plt.ylabel('misclassification rate')\n"
   ]
  },
  {
   "cell_type": "code",
   "execution_count": 86,
   "metadata": {
    "collapsed": false
   },
   "outputs": [
    {
     "data": {
      "image/png": "[encoded data removed]",
      "text/plain": [
       "<matplotlib.figure.Figure at 0x7f13be8debe0>"
      ]
     },
     "metadata": {},
     "output_type": "display_data"
    }
   ],
   "source": [
    "plt.plot(k_list, E_out_10, 'ro-', label='E_out_10')\n",
    "plt.plot(k_list, E_out_25, 'bx-', label='E_out_25')\n",
    "plt.ylim([0, 1])\n",
    "plt.xlabel('# k')\n",
    "plt.ylabel('misclassification rate')\n",
    "plt.legend()\n",
    "plt.show()"
   ]
  },
  {
   "cell_type": "markdown",
   "metadata": {},
   "source": [
    "### Validation Bias"
   ]
  },
  {
   "cell_type": "code",
   "execution_count": 93,
   "metadata": {
    "collapsed": true
   },
   "outputs": [],
   "source": [
    "n_var = 2\n",
    "n_trial = 1000000\n",
    "\n",
    "trial = np.random.uniform(low=0, high=1, size=(n_trial, n_var))"
   ]
  },
  {
   "cell_type": "code",
   "execution_count": 94,
   "metadata": {
    "collapsed": false
   },
   "outputs": [
    {
     "data": {
      "text/plain": [
       "(0.49997459092886659, 0.50014572865242146)"
      ]
     },
     "execution_count": 94,
     "metadata": {},
     "output_type": "execute_result"
    }
   ],
   "source": [
    "e1_mean, e2_mean = trial.mean(axis=0)\n",
    "e1_mean, e2_mean"
   ]
  },
  {
   "cell_type": "code",
   "execution_count": 95,
   "metadata": {
    "collapsed": false
   },
   "outputs": [
    {
     "data": {
      "text/plain": [
       "0.33333272798475949"
      ]
     },
     "execution_count": 95,
     "metadata": {},
     "output_type": "execute_result"
    }
   ],
   "source": [
    "e = np.min(trial, axis=1)\n",
    "e.mean()"
   ]
  },
  {
   "cell_type": "markdown",
   "metadata": {},
   "source": [
    "### Cross Validation"
   ]
  },
  {
   "cell_type": "code",
   "execution_count": 110,
   "metadata": {
    "collapsed": true
   },
   "outputs": [],
   "source": [
    "def get_slope_bias(p1, p2):\n",
    "    '''return a, b for equation y = mx + b\n",
    "    from two given points'''\n",
    "    x1, y1 = p1\n",
    "    x2, y2 = p2\n",
    "    m = (y2 - y1)/(x2 - x1)\n",
    "    b = y1 - m*x1\n",
    "    return m, b\n",
    "\n",
    "def pred_y(m, b, p):\n",
    "    x, y = p\n",
    "    y_hat = m*x + b\n",
    "    return y_hat\n",
    "\n",
    "def square_error(p1, p2, p_val):\n",
    "    m, b = get_slope_bias(p1, p2)\n",
    "    y_hat = pred_y(m, b, p_val)\n",
    "    _, y = p_val\n",
    "    return (y - y_hat)**2"
   ]
  },
  {
   "cell_type": "code",
   "execution_count": 97,
   "metadata": {
    "collapsed": true
   },
   "outputs": [],
   "source": [
    "import sympy as sp"
   ]
  },
  {
   "cell_type": "code",
   "execution_count": 99,
   "metadata": {
    "collapsed": false
   },
   "outputs": [],
   "source": [
    "p = sp.symbols('p')"
   ]
  },
  {
   "cell_type": "code",
   "execution_count": 101,
   "metadata": {
    "collapsed": false
   },
   "outputs": [],
   "source": [
    "expr = 1/(1+p)**2 + 1/(1-p)**2 - 1"
   ]
  },
  {
   "cell_type": "code",
   "execution_count": 102,
   "metadata": {
    "collapsed": false
   },
   "outputs": [
    {
     "data": {
      "text/plain": [
       "[-I*sqrt(-2 + sqrt(5)),\n",
       " I*sqrt(-2 + sqrt(5)),\n",
       " -sqrt(2 + sqrt(5)),\n",
       " sqrt(2 + sqrt(5))]"
      ]
     },
     "execution_count": 102,
     "metadata": {},
     "output_type": "execute_result"
    }
   ],
   "source": [
    "sp.solve(expr)"
   ]
  },
  {
   "cell_type": "code",
   "execution_count": 112,
   "metadata": {
    "collapsed": true
   },
   "outputs": [],
   "source": [
    "x1 = [-1, 0]\n",
    "x2 = [1, 0]\n",
    "x3 = [p, 1]"
   ]
  },
  {
   "cell_type": "code",
   "execution_count": 114,
   "metadata": {
    "collapsed": false
   },
   "outputs": [],
   "source": [
    "expr = square_error(x1, x2, x3) + square_error(x1, x3, x2) + square_error(x3, x2, x1)"
   ]
  },
  {
   "cell_type": "code",
   "execution_count": 115,
   "metadata": {
    "collapsed": false
   },
   "outputs": [
    {
     "data": {
      "text/plain": [
       "[-4.33566130724400,\n",
       " 4.33566130724400,\n",
       " -0.893285492512171*I,\n",
       " 0.893285492512171*I]"
      ]
     },
     "execution_count": 115,
     "metadata": {},
     "output_type": "execute_result"
    }
   ],
   "source": [
    "sp.solve(expr - 1.5)"
   ]
  },
  {
   "cell_type": "code",
   "execution_count": 116,
   "metadata": {
    "collapsed": false
   },
   "outputs": [
    {
     "data": {
      "text/plain": [
       "4.33"
      ]
     },
     "execution_count": 116,
     "metadata": {},
     "output_type": "execute_result"
    }
   ],
   "source": [
    "4.33"
   ]
  },
  {
   "cell_type": "code",
   "execution_count": 117,
   "metadata": {
    "collapsed": false
   },
   "outputs": [
    {
     "data": {
      "text/plain": [
       "2.3941701709713277"
      ]
     },
     "execution_count": 117,
     "metadata": {},
     "output_type": "execute_result"
    }
   ],
   "source": [
    "np.sqrt(np.sqrt(3)+4)"
   ]
  },
  {
   "cell_type": "code",
   "execution_count": 118,
   "metadata": {
    "collapsed": false
   },
   "outputs": [
    {
     "data": {
      "text/plain": [
       "0.85559967716735208"
      ]
     },
     "execution_count": 118,
     "metadata": {},
     "output_type": "execute_result"
    }
   ],
   "source": [
    "np.sqrt(np.sqrt(3)-1)"
   ]
  },
  {
   "cell_type": "code",
   "execution_count": 119,
   "metadata": {
    "collapsed": false
   },
   "outputs": [
    {
     "data": {
      "text/plain": [
       "4.3356613072439956"
      ]
     },
     "execution_count": 119,
     "metadata": {},
     "output_type": "execute_result"
    }
   ],
   "source": [
    "np.sqrt(9 + 4*np.sqrt(6))"
   ]
  },
  {
   "cell_type": "code",
   "execution_count": 120,
   "metadata": {
    "collapsed": false
   },
   "outputs": [
    {
     "data": {
      "text/plain": [
       "2.5593964634688433"
      ]
     },
     "execution_count": 120,
     "metadata": {},
     "output_type": "execute_result"
    }
   ],
   "source": [
    "np.sqrt(9 - np.sqrt(6))"
   ]
  },
  {
   "cell_type": "markdown",
   "metadata": {},
   "source": [
    "### PLA vs. SVM"
   ]
  },
  {
   "cell_type": "code",
   "execution_count": 129,
   "metadata": {
    "collapsed": true
   },
   "outputs": [],
   "source": [
    "class TargetFunc:\n",
    "    \n",
    "    def __init__(self, p1, p2):\n",
    "        self.w = self._get_line(p1, p2)\n",
    "        \n",
    "    def _get_line(self, p1, p2):\n",
    "        \n",
    "        x1, y1 = p1\n",
    "        x2, y2 = p2\n",
    "        m = (y2 - y1) / (x2 - x1)\n",
    "        b = y1 - m*x1\n",
    "        return np.array([b, m, -1.])\n",
    "    \n",
    "    def __call__(self, X):\n",
    "        X = np.c_[np.ones(len(X)), X]\n",
    "        return np.sign(np.dot(X, self.w))"
   ]
  },
  {
   "cell_type": "code",
   "execution_count": 161,
   "metadata": {
    "collapsed": true
   },
   "outputs": [],
   "source": [
    "class PLA:\n",
    "    '''Perceptron Learning Algorithm'''\n",
    "    \n",
    "    def fit(self, X, y):\n",
    "        X = np.c_[np.ones(len(X)), X]\n",
    "        self.w_ = np.zeros(X.shape[1])\n",
    "        \n",
    "        y_pred = self.predict(X)\n",
    "        while self.error_count(y, y_pred):\n",
    "            idx_wrong = (y_pred != y)\n",
    "            x_n, y_n = self._get_rand_Xy(X[idx_wrong], y[idx_wrong])\n",
    "            self.w_ += y_n*x_n\n",
    "            y_pred = self.predict(X)\n",
    "        return self\n",
    "    \n",
    "    def predict(self, X):\n",
    "        if X.shape[1]  != len(self.w_):\n",
    "            X = np.c_[np.ones(len(X)), X]\n",
    "        return np.sign(np.dot(X, self.w_))\n",
    "    \n",
    "    def error_count(self, y_true, y_pred):\n",
    "        return (y_true != y_pred).sum()\n",
    "    \n",
    "    def _get_rand_Xy(self, X, y):\n",
    "        i = np.random.randint(len(X))\n",
    "        return X[i], y[i]\n",
    "    \n",
    "    def score(self, X, y):\n",
    "        y_pred = self.predict(X)\n",
    "        return (y != y_pred).mean()"
   ]
  },
  {
   "cell_type": "code",
   "execution_count": 229,
   "metadata": {
    "collapsed": true
   },
   "outputs": [],
   "source": [
    "class SVM:\n",
    "    \n",
    "    def fit(self, X, y):\n",
    "        from cvxopt import matrix, solvers\n",
    "        solvers.options['show_progress'] = False\n",
    "        \n",
    "        Q = np.dot(y[:, np.newaxis]*X, y[np.newaxis, :]*X.T)\n",
    "        p = -np.ones(len(X))\n",
    "        A = np.vstack([y, -y, np.identity(len(X))])\n",
    "        c = np.zeros(len(A))\n",
    "        \n",
    "        alphas = solvers.qp(*map(matrix, [Q, p, -A, c]), show_progress=False)['x']\n",
    "        alphas = np.array(alphas).ravel()\n",
    "        is_svm = (alphas > 1e-5)\n",
    "        self.support_vectors = X[is_svm]\n",
    "        self.n_svm = self.support_vectors.shape[0]\n",
    "        y_svm = y[is_svm]\n",
    "        \n",
    "        self.w_ = np.dot(y_svm * alphas[is_svm], self.support_vectors)\n",
    "        self.b_ = y_svm[0] - np.dot(self.w_, self.support_vectors[0])\n",
    "        \n",
    "        return self\n",
    "        \n",
    "    def predict(self, X):\n",
    "        return np.sign(np.dot(X, self.w_) + self.b_)\n",
    "    \n",
    "    def score(self, X, y):\n",
    "        y_pred = self.predict(X)\n",
    "        return (y != y_pred).mean()\n",
    "    \n"
   ]
  },
  {
   "cell_type": "code",
   "execution_count": 230,
   "metadata": {
    "collapsed": false
   },
   "outputs": [
    {
     "name": "stdout",
     "output_type": "stream",
     "text": [
      "% svm10: 0.617\n",
      "% svm100: 0.62\n",
      "avg # svm: 3.086\n"
     ]
    }
   ],
   "source": [
    "n_pop = 2000\n",
    "n_sample_1 = 10\n",
    "n_sample_2 = 100\n",
    "n_dim = 2\n",
    "\n",
    "n_run = 1000\n",
    "\n",
    "E_out_svm10 = []\n",
    "E_out_pla10 = []\n",
    "E_out_svm100 = []\n",
    "E_out_pla100 = []\n",
    "n_svm = 0\n",
    "\n",
    "num_svm10_win = 0\n",
    "num_svm100_win = 0\n",
    "\n",
    "for i in range(n_run):\n",
    "    # init random dataset\n",
    "    X_test = np.random.uniform(low=-1, high=1, size=(n_pop, n_dim))\n",
    "    X_train1 = np.random.uniform(low=-1, high=1, size=(n_sample_1, n_dim))\n",
    "    X_train2 = np.random.uniform(low=-1, high=1, size=(n_sample_2, n_dim))\n",
    "\n",
    "    # create a random target function\n",
    "    while True:\n",
    "        p1, p2 = np.random.uniform(-1, 1, (2, n_dim))\n",
    "        f = TargetFunc(p1, p2)\n",
    "\n",
    "        y = f(X_train1)\n",
    "\n",
    "        if (y==1).sum() and (y==-1).sum():\n",
    "            break\n",
    "\n",
    "    y_train1 = f(X_train1)\n",
    "    y_train2 = f(X_train2)\n",
    "    y_test = f(X_test)\n",
    "\n",
    "    pla10 = PLA().fit(X_train1, y_train1)\n",
    "    svm10 = SVM().fit(X_train1, y_train1)\n",
    "\n",
    "    pla100 = PLA().fit(X_train2, y_train2)\n",
    "    svm100 = SVM().fit(X_train2, y_train2)\n",
    "\n",
    "    e_svm10 = svm10.score(X_test, y_test)\n",
    "    e_pla10 = pla10.score(X_test, y_test)\n",
    "    e_svm100 = svm100.score(X_test, y_test)\n",
    "    e_pla100 = pla100.score(X_test, y_test)\n",
    "    \n",
    "    n_svm += svm100.n_svm\n",
    "    \n",
    "    E_out_pla10.append(e_pla10)\n",
    "    E_out_svm10.append(e_svm10)\n",
    "    E_out_pla100.append(e_pla100)\n",
    "    E_out_svm100.append(e_svm100)\n",
    "    \n",
    "    if e_svm10 < e_pla10:\n",
    "        num_svm10_win += 1\n",
    "    if e_svm100 < e_pla100:\n",
    "        num_svm100_win += 1\n",
    "\n",
    "print('% svm10: {}'.format(num_svm10_win / n_run))\n",
    "print('% svm100: {}'.format(num_svm100_win / n_run))\n",
    "print('avg # svm: {}'.format(n_svm / n_run))"
   ]
  },
  {
   "cell_type": "code",
   "execution_count": 232,
   "metadata": {
    "collapsed": false
   },
   "outputs": [
    {
     "data": {
      "text/plain": [
       "<matplotlib.legend.Legend at 0x7f13b9789940>"
      ]
     },
     "execution_count": 232,
     "metadata": {},
     "output_type": "execute_result"
    },
    {
     "data": {
      "image/png": "[encoded data removed]",
      "text/plain": [
       "<matplotlib.figure.Figure at 0x7f13b9789b70>"
      ]
     },
     "metadata": {},
     "output_type": "display_data"
    }
   ],
   "source": [
    "plt.hist(E_out_svm10, bins=30, alpha=.3, label='N = 10')\n",
    "plt.hist(E_out_svm100, bins=30, alpha=.3, label='N = 100')\n",
    "plt.legend()"
   ]
  },
  {
   "cell_type": "code",
   "execution_count": 233,
   "metadata": {
    "collapsed": false
   },
   "outputs": [
    {
     "data": {
      "text/plain": [
       "<matplotlib.legend.Legend at 0x7f13b96c2d68>"
      ]
     },
     "execution_count": 233,
     "metadata": {},
     "output_type": "execute_result"
    },
    {
     "data": {
      "image/png": "[encoded data removed]",
      "text/plain": [
       "<matplotlib.figure.Figure at 0x7f13b99c9940>"
      ]
     },
     "metadata": {},
     "output_type": "display_data"
    }
   ],
   "source": [
    "plt.hist(E_out_pla10, bins=30, alpha=.3, label='N = 10')\n",
    "plt.hist(E_out_pla100, bins=30, alpha=.3, label='N = 100')\n",
    "plt.legend()"
   ]
  },
  {
   "cell_type": "code",
   "execution_count": null,
   "metadata": {
    "collapsed": true
   },
   "outputs": [],
   "source": []
  }
 ],
 "metadata": {
  "kernelspec": {
   "display_name": "py34",
   "language": "python",
   "name": "py34"
  },
  "language_info": {
   "codemirror_mode": {
    "name": "ipython",
    "version": 3
   },
   "file_extension": ".py",
   "mimetype": "text/x-python",
   "name": "python",
   "nbconvert_exporter": "python",
   "pygments_lexer": "ipython3",
   "version": "3.6.0"
  }
 },
 "nbformat": 4,
 "nbformat_minor": 2
}
