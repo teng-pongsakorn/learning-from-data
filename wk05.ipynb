{
 "cells": [
  {
   "cell_type": "code",
   "execution_count": 1,
   "metadata": {
    "collapsed": true
   },
   "outputs": [],
   "source": [
    "import numpy as np\n",
    "import math\n",
    "import sympy"
   ]
  },
  {
   "cell_type": "markdown",
   "metadata": {},
   "source": [
    "### Gradient Descent"
   ]
  },
  {
   "cell_type": "code",
   "execution_count": 39,
   "metadata": {
    "collapsed": true
   },
   "outputs": [],
   "source": [
    "eta = .1\n",
    "\n",
    "x = np.array([1., 1.], np.float64)\n",
    "\n",
    "def E(x):\n",
    "    u, v = x\n",
    "    return (u*math.exp(v) - 2*v*math.exp(-u)) ** 2\n",
    "\n",
    "def dE(x):\n",
    "    u0, v0 = x\n",
    "    u, v = sympy.symbols('u, v')\n",
    "    expr = (u*sympy.exp(v) - 2*v*sympy.exp(-u))** 2 \n",
    "    du = sympy.diff(expr, u).subs({u:u0, v:v0}).n()\n",
    "    dv = sympy.diff(expr, v).subs({u:u0, v:v0}).n()\n",
    "    return np.array([du, dv], dtype=np.float64)"
   ]
  },
  {
   "cell_type": "code",
   "execution_count": 40,
   "metadata": {
    "collapsed": false
   },
   "outputs": [
    {
     "name": "stdout",
     "output_type": "stream",
     "text": [
      "1 : 3.93039723188\n",
      "2 : 1.15950972997\n",
      "3 : 1.00740748296\n",
      "4 : 0.0990091216273\n",
      "5 : 0.00866064536281\n",
      "6 : 0.000181755791728\n",
      "7 : 1.29723984784e-06\n",
      "8 : 7.29152469846e-09\n",
      "9 : 4.00999789056e-11\n",
      "10 : 2.20168344841e-13\n",
      "11 : 1.20868339442e-15\n"
     ]
    }
   ],
   "source": [
    "for i in range(11):\n",
    "    print(i+1, ':', E(x))\n",
    "    dx = dE(x)\n",
    "    x -= eta*dx\n",
    "    "
   ]
  },
  {
   "cell_type": "code",
   "execution_count": 43,
   "metadata": {
    "collapsed": false
   },
   "outputs": [
    {
     "name": "stdout",
     "output_type": "stream",
     "text": [
      "iter-1: 3.9303972318771003\n",
      "iter-2: 34.29016311234976\n",
      "iter-3: 0.5341425913722001\n",
      "iter-4: 0.4326608273241937\n",
      "iter-5: 0.3650397350187306\n",
      "iter-6: 0.31646807535966437\n",
      "iter-7: 0.2797634230640926\n",
      "iter-8: 0.25098631167528807\n",
      "iter-9: 0.22778329894427699\n",
      "iter-10: 0.20865669572438028\n",
      "iter-11: 0.19260565861364648\n",
      "iter-12: 0.17893474840754628\n",
      "iter-13: 0.167145054343084\n",
      "iter-14: 0.15686898732952279\n",
      "iter-15: 0.14782952252409787\n"
     ]
    }
   ],
   "source": [
    "x = np.array([1., 1.], dtype=np.float64)\n",
    "\n",
    "for i in range(15):\n",
    "    # current Error\n",
    "    print('iter-{}: {}'.format(i+1, E(x)))\n",
    "    \n",
    "    # step 1: update only u-coordinate\n",
    "    du, _ = dE(x)\n",
    "    x -= eta*np.array([du, 0], np.float64)\n",
    "    \n",
    "    # step 2: update only v-coordinate\n",
    "    _, dv = dE(x)\n",
    "    x -= eta*np.array([0, dv], np.float64)"
   ]
  },
  {
   "cell_type": "code",
   "execution_count": 44,
   "metadata": {
    "collapsed": false
   },
   "outputs": [
    {
     "data": {
      "text/plain": [
       "array([ 6.2970759 , -2.85230695])"
      ]
     },
     "execution_count": 44,
     "metadata": {},
     "output_type": "execute_result"
    }
   ],
   "source": [
    "x"
   ]
  },
  {
   "cell_type": "markdown",
   "metadata": {},
   "source": [
    "### 2) Non-linear transformation"
   ]
  },
  {
   "cell_type": "code",
   "execution_count": 49,
   "metadata": {
    "collapsed": true
   },
   "outputs": [],
   "source": [
    "import matplotlib.pyplot as plt\n",
    "%matplotlib inline"
   ]
  },
  {
   "cell_type": "code",
   "execution_count": 61,
   "metadata": {
    "collapsed": true
   },
   "outputs": [],
   "source": [
    "w = np.array([1, -.5, 0.5])\n",
    "\n",
    "\n",
    "x1 = np.linspace(-10, 10, 200)\n",
    "x2 = np.linspace(-10, 10, 200)\n",
    "XX, YY = np.meshgrid(x1, x2)\n",
    "\n",
    "Z = np.sign(np.dot(np.c_[np.ones(len(XX.ravel())), XX.ravel()**2, YY.ravel()**2], w).reshape(XX.shape))"
   ]
  },
  {
   "cell_type": "code",
   "execution_count": 62,
   "metadata": {
    "collapsed": false
   },
   "outputs": [
    {
     "data": {
      "text/plain": [
       "<matplotlib.contour.QuadContourSet at 0x7f21442410f0>"
      ]
     },
     "execution_count": 62,
     "metadata": {},
     "output_type": "execute_result"
    },
    {
     "data": {
      "image/png": "[encoded data removed]",
      "text/plain": [
       "<matplotlib.figure.Figure at 0x7f21442acb38>"
      ]
     },
     "metadata": {},
     "output_type": "display_data"
    }
   ],
   "source": [
    "plt.contourf(XX, YY, Z)"
   ]
  },
  {
   "cell_type": "code",
   "execution_count": 63,
   "metadata": {
    "collapsed": false
   },
   "outputs": [
    {
     "data": {
      "text/plain": [
       "1.0"
      ]
     },
     "execution_count": 63,
     "metadata": {},
     "output_type": "execute_result"
    }
   ],
   "source": [
    "Z[0, 0]"
   ]
  },
  {
   "cell_type": "markdown",
   "metadata": {},
   "source": [
    "### Logistic Regression"
   ]
  },
  {
   "cell_type": "code",
   "execution_count": 72,
   "metadata": {
    "collapsed": true
   },
   "outputs": [],
   "source": [
    "def cost(X, y, w):\n",
    "    n = X.shape[0]\n",
    "    return np.log(1 + np.exp(-y*np.dot(X, w))).sum() / n\n",
    "\n",
    "\n",
    "def grad(x, y, w):\n",
    "    '''stochastic gradient descent'''\n",
    "    return (-y/(1 + np.exp(y*np.dot(x, w)))) * x\n",
    "\n",
    "def sigmoid(X, w):\n",
    "    return 1./(1 + np.exp(-np.dot(X, w)))"
   ]
  },
  {
   "cell_type": "code",
   "execution_count": 133,
   "metadata": {
    "collapsed": false
   },
   "outputs": [],
   "source": [
    "N = 100\n",
    "eta = .01\n",
    "\n",
    "\n",
    "\n",
    "\n",
    "E_out = []\n",
    "n_epoch = []\n",
    "n_trial = 100\n",
    "for _ in range(n_trial):\n",
    "    \n",
    "    # init experiment data and target function\n",
    "    f = np.r_[0, np.random.uniform(-1, 1., 2)]\n",
    "\n",
    "    # 100 training points, 100 test points\n",
    "    X_train = np.c_[np.ones(N), np.random.uniform(low=-1, high=1, size=(N, 2))]\n",
    "    y_train = np.where(sigmoid(X_train, f) > 0.5, 1, -1)\n",
    "    X_test = np.c_[np.ones(100), np.random.uniform(-1, 1, (100, 2))]\n",
    "    y_test = np.where(sigmoid(X_test, f) > 0.5, 1, -1)\n",
    "    \n",
    "    # init w0\n",
    "    w = np.zeros_like(f)\n",
    "    epoch = 0\n",
    "    # perform 100 experiments\n",
    "    while True:\n",
    "        epoch += 1\n",
    "        \n",
    "        # shuffle training set\n",
    "        idx = np.random.permutation(N)\n",
    "\n",
    "        # stochastic gradient 1 epoch\n",
    "        w_next = w.copy()\n",
    "        for xi, yi in zip(X_train[idx], y_train[idx]):\n",
    "            dE = grad(xi, yi, w_next)\n",
    "            w_next -= eta*dE\n",
    "\n",
    "        dw = w - w_next\n",
    "        if np.sqrt(np.dot(dw, dw)) < .01:\n",
    "            break\n",
    "        w = w_next\n",
    "        \n",
    "    # record E_out\n",
    "    E_out.append(cost(X_test, y_test, w))\n",
    "    n_epoch.append(epoch)"
   ]
  },
  {
   "cell_type": "code",
   "execution_count": 134,
   "metadata": {
    "collapsed": false
   },
   "outputs": [
    {
     "data": {
      "text/plain": [
       "(0.10531657982187675, 343.68000000000001)"
      ]
     },
     "execution_count": 134,
     "metadata": {},
     "output_type": "execute_result"
    }
   ],
   "source": [
    "np.mean(E_out), np.mean(n_epoch)"
   ]
  },
  {
   "cell_type": "code",
   "execution_count": 132,
   "metadata": {
    "collapsed": false
   },
   "outputs": [
    {
     "data": {
      "text/plain": [
       "(0.10253430838676883, 350.42000000000002)"
      ]
     },
     "execution_count": 132,
     "metadata": {},
     "output_type": "execute_result"
    }
   ],
   "source": [
    "np.mean(E_out), np.mean(n_epoch)"
   ]
  },
  {
   "cell_type": "code",
   "execution_count": null,
   "metadata": {
    "collapsed": false
   },
   "outputs": [],
   "source": []
  },
  {
   "cell_type": "code",
   "execution_count": null,
   "metadata": {
    "collapsed": true
   },
   "outputs": [],
   "source": []
  },
  {
   "cell_type": "code",
   "execution_count": null,
   "metadata": {
    "collapsed": false
   },
   "outputs": [],
   "source": []
  },
  {
   "cell_type": "code",
   "execution_count": null,
   "metadata": {
    "collapsed": true
   },
   "outputs": [],
   "source": []
  }
 ],
 "metadata": {
  "kernelspec": {
   "display_name": "py34",
   "language": "python",
   "name": "py34"
  },
  "language_info": {
   "codemirror_mode": {
    "name": "ipython",
    "version": 3
   },
   "file_extension": ".py",
   "mimetype": "text/x-python",
   "name": "python",
   "nbconvert_exporter": "python",
   "pygments_lexer": "ipython3",
   "version": "3.6.0"
  }
 },
 "nbformat": 4,
 "nbformat_minor": 2
}
