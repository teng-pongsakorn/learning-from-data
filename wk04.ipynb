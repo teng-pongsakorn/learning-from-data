{
 "cells": [
  {
   "cell_type": "code",
   "execution_count": 1,
   "metadata": {},
   "outputs": [],
   "source": [
    "import numpy as np\n",
    "import math\n",
    "import sympy as sp\n",
    "\n",
    "import matplotlib.pyplot as plt\n",
    "%matplotlib inline"
   ]
  },
  {
   "cell_type": "markdown",
   "metadata": {},
   "source": [
    "### Generalization Error"
   ]
  },
  {
   "cell_type": "code",
   "execution_count": null,
   "metadata": {
    "collapsed": true
   },
   "outputs": [],
   "source": [
    "def omega(N, delta, vc_dim, growth_func):\n",
    "    '''compute generalization error\n",
    "    \n",
    "    params:\n",
    "        N : int \n",
    "            sample size\n",
    "        delta : float [0, 1]\n",
    "            probability that |E_out - E_in| > epsilon\n",
    "        vc_dim : int\n",
    "            vc dimension of the given hypothesis set\n",
    "        growth_func : callable, \n",
    "            growth function N, vc_dim\n",
    "    '''\n",
    "    return math.sqrt(8/N * math.log(4*growth_func(2*N, vc_dim) / delta))\n",
    "\n",
    "\n",
    "def growth(N, vc_dim):\n",
    "    '''growth function'''\n",
    "    return N ** vc_dim"
   ]
  },
  {
   "cell_type": "code",
   "execution_count": null,
   "metadata": {},
   "outputs": [],
   "source": [
    "delta = .05\n",
    "vc_dim = 10\n",
    "\n",
    "for N in [400000, 420000, 440000, 460000, 480000]:\n",
    "    epsilon = omega(N, delta, vc_dim, growth)\n",
    "    print('{} : {:.3f}'.format(N, epsilon))"
   ]
  },
  {
   "cell_type": "code",
   "execution_count": null,
   "metadata": {
    "collapsed": true
   },
   "outputs": [],
   "source": [
    "N, vc, delta, epsilon = sp.symbols('N, vc, delta, epsilon')"
   ]
  },
  {
   "cell_type": "code",
   "execution_count": null,
   "metadata": {},
   "outputs": [],
   "source": [
    "param_dict = {N:5, delta:.05, vc:50}"
   ]
  },
  {
   "cell_type": "code",
   "execution_count": null,
   "metadata": {},
   "outputs": [],
   "source": [
    "Rademacher = sp.sqrt(2*sp.log(2*N*(N**vc)) / N) + sp.sqrt(2/N*sp.log(1/delta)) + 1/N - epsilon\n",
    "VC_original = sp.sqrt(8/N*sp.log(4*(N**vc)/delta)) - epsilon\n",
    "Parrondo = sp.sqrt((2*epsilon + sp.log(6*((2*N)**vc)/delta)) / N) - epsilon\n",
    "Devroye = sp.sqrt((4*epsilon*(1+epsilon) + sp.log(4*((N**2)**vc) / delta)) / (2*N)) - epsilon"
   ]
  },
  {
   "cell_type": "code",
   "execution_count": null,
   "metadata": {},
   "outputs": [],
   "source": [
    "sp.solve(VC_original.subs(param_dict))"
   ]
  },
  {
   "cell_type": "code",
   "execution_count": null,
   "metadata": {},
   "outputs": [],
   "source": [
    "sp.solve(Rademacher.subs(param_dict))"
   ]
  },
  {
   "cell_type": "code",
   "execution_count": null,
   "metadata": {},
   "outputs": [],
   "source": [
    "sp.solve(Parrondo.subs(param_dict))"
   ]
  },
  {
   "cell_type": "code",
   "execution_count": null,
   "metadata": {},
   "outputs": [],
   "source": [
    "sp.solve(Devroye.subs(param_dict))"
   ]
  },
  {
   "cell_type": "markdown",
   "metadata": {},
   "source": [
    "### Bias and Variance"
   ]
  },
  {
   "cell_type": "code",
   "execution_count": 2,
   "metadata": {
    "collapsed": true
   },
   "outputs": [],
   "source": [
    "class LinReg:\n",
    "    \n",
    "    def __init__(self, weights=None, bias=True):\n",
    "        self.w = weights\n",
    "        self.bias = bias\n",
    "        \n",
    "    def fit(self, X, y):\n",
    "        if self.bias:\n",
    "            X = np.c_[np.ones(len(X)), X]\n",
    "        if len(X.shape) == 1:\n",
    "            X = X.reshape(-1, 1)\n",
    "        self.w = np.dot(np.linalg.pinv(X), y)\n",
    "        \n",
    "    def predict(self, X):\n",
    "        if self.bias:\n",
    "            X = np.c_[np.ones(len(X)), X]\n",
    "        if len(X.shape) == 1:\n",
    "            X = X.reshape(-1, 1)\n",
    "        return np.dot(X, self.w)\n",
    "    \n",
    "    \n",
    "def mse(y_true, y_pred):\n",
    "    err = y_true - y_pred\n",
    "    return np.dot(err, err) / len(err)"
   ]
  },
  {
   "cell_type": "code",
   "execution_count": 3,
   "metadata": {
    "collapsed": true
   },
   "outputs": [],
   "source": [
    "def target_func(x):\n",
    "    return np.sin(np.pi*x)"
   ]
  },
  {
   "cell_type": "code",
   "execution_count": 4,
   "metadata": {},
   "outputs": [],
   "source": [
    "n_samples = 10000\n",
    "X_all = np.random.uniform(low=-1.0, high=1.0, size=n_samples)\n",
    "y_all = target_func(X_all)"
   ]
  },
  {
   "cell_type": "code",
   "execution_count": 5,
   "metadata": {},
   "outputs": [
    {
     "data": {
      "text/plain": [
       "<matplotlib.collections.PathCollection at 0x7f510d124b00>"
      ]
     },
     "execution_count": 5,
     "metadata": {},
     "output_type": "execute_result"
    },
    {
     "data": {
      "image/png": "[encoded data removed]",
      "text/plain": [
       "<matplotlib.figure.Figure at 0x7f510d124b38>"
      ]
     },
     "metadata": {},
     "output_type": "display_data"
    }
   ],
   "source": [
    "plt.scatter(X_all, y_all)"
   ]
  },
  {
   "cell_type": "code",
   "execution_count": 6,
   "metadata": {},
   "outputs": [
    {
     "data": {
      "text/plain": [
       "((5000, 2), (5000, 2))"
      ]
     },
     "execution_count": 6,
     "metadata": {},
     "output_type": "execute_result"
    }
   ],
   "source": [
    "n_models = n_samples//2\n",
    "X_models = np.random.uniform(low=-1, high=1, size=n_models*2)\n",
    "y_models = target_func(X_models)\n",
    "X_models = X_models.reshape(-1, 2)\n",
    "y_models = y_models.reshape(-1, 2)\n",
    "\n",
    "X_models.shape, y_models.shape"
   ]
  },
  {
   "cell_type": "code",
   "execution_count": 7,
   "metadata": {},
   "outputs": [],
   "source": [
    "a_models = []      # h(x) = b\n",
    "b_models = []      # h(x) = ax\n",
    "c_models = []      # h(x) = ax + b\n",
    "d_models = []      # h(x) = ax^2\n",
    "e_models = []      # h(x) = ax^2 + b\n",
    "a_weights_sum = np.zeros(2)\n",
    "b_weights_sum = np.zeros(1)\n",
    "c_weights_sum = np.zeros(2)\n",
    "d_weights_sum = np.zeros(1)\n",
    "e_weights_sum = np.zeros(2)\n",
    "\n",
    "for X, y in zip(X_models, y_models):\n",
    "    # init models\n",
    "    a = LinReg(bias=True)\n",
    "    b = LinReg(bias=False)\n",
    "    c = LinReg(bias=True)\n",
    "    d = LinReg(bias=False)\n",
    "    e = LinReg(bias=True)\n",
    "    \n",
    "    # train models\n",
    "    a.fit(np.zeros_like(X), y)\n",
    "    b.fit(X, y)\n",
    "    c.fit(X, y)\n",
    "    d.fit(X**2, y)\n",
    "    e.fit(X**2, y)\n",
    "    \n",
    "    # store models\n",
    "    a_models.append(a)\n",
    "    b_models.append(b)\n",
    "    c_models.append(c)\n",
    "    d_models.append(d)\n",
    "    e_models.append(e)\n",
    "    \n",
    "    # sum weights for avg_model\n",
    "    a_weights_sum += a.w\n",
    "    b_weights_sum += b.w\n",
    "    c_weights_sum += c.w\n",
    "    d_weights_sum += d.w\n",
    "    e_weights_sum += e.w"
   ]
  },
  {
   "cell_type": "code",
   "execution_count": 8,
   "metadata": {},
   "outputs": [],
   "source": [
    "a_bar = LinReg(weights=a_weights_sum/len(a_models), bias=True)\n",
    "b_bar = LinReg(weights=b_weights_sum/len(b_models), bias=False)\n",
    "c_bar = LinReg(weights=c_weights_sum/len(c_models), bias=True)\n",
    "d_bar = LinReg(weights=d_weights_sum/len(d_models), bias=False)\n",
    "e_bar = LinReg(weights=e_weights_sum/len(e_models), bias=True)"
   ]
  },
  {
   "cell_type": "code",
   "execution_count": 9,
   "metadata": {},
   "outputs": [],
   "source": [
    "a_bar_pred = a_bar.predict(X_all)\n",
    "b_bar_pred = b_bar.predict(X_all)\n",
    "c_bar_pred = c_bar.predict(X_all)\n",
    "d_bar_pred = d_bar.predict(X_all)\n",
    "e_bar_pred = e_bar.predict(X_all)"
   ]
  },
  {
   "cell_type": "code",
   "execution_count": 10,
   "metadata": {},
   "outputs": [
    {
     "data": {
      "text/plain": [
       "(0.50393093390047605,\n",
       " 0.26431791953904621,\n",
       " 0.20852553300556434,\n",
       " 0.5639044626727282,\n",
       " 1.1958421430795749)"
      ]
     },
     "execution_count": 10,
     "metadata": {},
     "output_type": "execute_result"
    }
   ],
   "source": [
    "a_bias = mse(y_all, a_bar_pred)\n",
    "b_bias = mse(y_all, b_bar_pred)\n",
    "c_bias = mse(y_all, c_bar_pred)\n",
    "d_bias = mse(y_all, d_bar_pred)\n",
    "e_bias = mse(y_all, e_bar_pred)\n",
    "\n",
    "a_bias, b_bias, c_bias, d_bias, e_bias"
   ]
  },
  {
   "cell_type": "code",
   "execution_count": 11,
   "metadata": {
    "collapsed": true
   },
   "outputs": [],
   "source": [
    "def model_bias(g_bar):\n",
    "    return mse(y_all, g_bar.predict(X_all))\n",
    "\n",
    "def model_variance(g_models, g_bar):\n",
    "    total_var = 0\n",
    "    g_bar_pred = g_bar.predict(X_all)\n",
    "    for g in g_models:\n",
    "        g_pred = g.predict(X_all)\n",
    "        total_var += mse(g_bar_pred, g_pred)\n",
    "    return total_var / len(g_models)"
   ]
  },
  {
   "cell_type": "code",
   "execution_count": 12,
   "metadata": {},
   "outputs": [
    {
     "data": {
      "text/plain": [
       "0.750703422816554"
      ]
     },
     "execution_count": 12,
     "metadata": {},
     "output_type": "execute_result"
    }
   ],
   "source": [
    "model_bias(a_bar) + model_variance(a_models, a_bar)"
   ]
  },
  {
   "cell_type": "code",
   "execution_count": 13,
   "metadata": {},
   "outputs": [
    {
     "data": {
      "text/plain": [
       "0.50272933726337976"
      ]
     },
     "execution_count": 13,
     "metadata": {},
     "output_type": "execute_result"
    }
   ],
   "source": [
    "model_bias(b_bar) + model_variance(b_models, b_bar)"
   ]
  },
  {
   "cell_type": "code",
   "execution_count": 14,
   "metadata": {},
   "outputs": [
    {
     "data": {
      "text/plain": [
       "1.883676822931021"
      ]
     },
     "execution_count": 14,
     "metadata": {},
     "output_type": "execute_result"
    }
   ],
   "source": [
    "model_bias(c_bar) + model_variance(c_models, c_bar)"
   ]
  },
  {
   "cell_type": "code",
   "execution_count": 15,
   "metadata": {},
   "outputs": [
    {
     "data": {
      "text/plain": [
       "20.265040555856327"
      ]
     },
     "execution_count": 15,
     "metadata": {},
     "output_type": "execute_result"
    }
   ],
   "source": [
    "model_bias(d_bar) + model_variance(d_models, d_bar)"
   ]
  },
  {
   "cell_type": "code",
   "execution_count": 16,
   "metadata": {},
   "outputs": [
    {
     "data": {
      "text/plain": [
       "55729.584135832156"
      ]
     },
     "execution_count": 16,
     "metadata": {},
     "output_type": "execute_result"
    }
   ],
   "source": [
    "model_bias(e_bar) + model_variance(e_models, e_bar)"
   ]
  },
  {
   "cell_type": "code",
   "execution_count": 17,
   "metadata": {},
   "outputs": [
    {
     "data": {
      "text/plain": [
       "array([-0.012277,  0.      ])"
      ]
     },
     "execution_count": 17,
     "metadata": {},
     "output_type": "execute_result"
    }
   ],
   "source": [
    "a_bar.w"
   ]
  },
  {
   "cell_type": "code",
   "execution_count": 18,
   "metadata": {},
   "outputs": [
    {
     "data": {
      "text/plain": [
       "array([ 1.42])"
      ]
     },
     "execution_count": 18,
     "metadata": {},
     "output_type": "execute_result"
    }
   ],
   "source": [
    "b_bar.w.round(2)"
   ]
  },
  {
   "cell_type": "code",
   "execution_count": 19,
   "metadata": {},
   "outputs": [
    {
     "data": {
      "text/plain": [
       "array([-0.01292482,  0.77053118])"
      ]
     },
     "execution_count": 19,
     "metadata": {},
     "output_type": "execute_result"
    }
   ],
   "source": [
    "c_bar.w"
   ]
  },
  {
   "cell_type": "code",
   "execution_count": 20,
   "metadata": {},
   "outputs": [
    {
     "data": {
      "text/plain": [
       "array([-0.09018352])"
      ]
     },
     "execution_count": 20,
     "metadata": {},
     "output_type": "execute_result"
    }
   ],
   "source": [
    "d_bar.w"
   ]
  },
  {
   "cell_type": "code",
   "execution_count": 21,
   "metadata": {},
   "outputs": [
    {
     "data": {
      "text/plain": [
       "array([-0.18327544,  2.67291749])"
      ]
     },
     "execution_count": 21,
     "metadata": {},
     "output_type": "execute_result"
    }
   ],
   "source": [
    "e_bar.w"
   ]
  },
  {
   "cell_type": "code",
   "execution_count": 22,
   "metadata": {},
   "outputs": [
    {
     "data": {
      "text/plain": [
       "[-1, 1, -1, 1]"
      ]
     },
     "execution_count": 22,
     "metadata": {},
     "output_type": "execute_result"
    },
    {
     "data": {
      "image/png": "[encoded data removed]",
      "text/plain": [
       "<matplotlib.figure.Figure at 0x7f510b0654e0>"
      ]
     },
     "metadata": {},
     "output_type": "display_data"
    }
   ],
   "source": [
    "plt.plot(X_all, y_all, 'r.', alpha=.5)\n",
    "plt.plot(X_all, a_bar.predict(X_all), 'g.', alpha=.4)\n",
    "plt.axis([-1, 1, -1, 1])"
   ]
  },
  {
   "cell_type": "code",
   "execution_count": 23,
   "metadata": {},
   "outputs": [
    {
     "data": {
      "text/plain": [
       "[-1, 1, -1, 1]"
      ]
     },
     "execution_count": 23,
     "metadata": {},
     "output_type": "execute_result"
    },
    {
     "data": {
      "image/png": "[encoded data removed]",
      "text/plain": [
       "<matplotlib.figure.Figure at 0x7f510a92da58>"
      ]
     },
     "metadata": {},
     "output_type": "display_data"
    }
   ],
   "source": [
    "plt.plot(X_all, y_all, 'r.', alpha=.5)\n",
    "plt.plot(X_all, b_bar.predict(X_all), 'g.', alpha=.4)\n",
    "plt.axis([-1, 1, -1, 1])"
   ]
  },
  {
   "cell_type": "code",
   "execution_count": 24,
   "metadata": {},
   "outputs": [
    {
     "data": {
      "text/plain": [
       "[-1, 1, -1, 1]"
      ]
     },
     "execution_count": 24,
     "metadata": {},
     "output_type": "execute_result"
    },
    {
     "data": {
      "image/png": "[encoded data removed]",
      "text/plain": [
       "<matplotlib.figure.Figure at 0x7f510a85a278>"
      ]
     },
     "metadata": {},
     "output_type": "display_data"
    }
   ],
   "source": [
    "plt.plot(X_all, y_all, 'r.', alpha=.5)\n",
    "plt.plot(X_all, c_bar.predict(X_all), 'g.', alpha=.4)\n",
    "plt.axis([-1, 1, -1, 1])"
   ]
  },
  {
   "cell_type": "code",
   "execution_count": 25,
   "metadata": {},
   "outputs": [
    {
     "data": {
      "text/plain": [
       "[-1, 1, -1, 1]"
      ]
     },
     "execution_count": 25,
     "metadata": {},
     "output_type": "execute_result"
    },
    {
     "data": {
      "image/png": "[encoded data removed]",
      "text/plain": [
       "<matplotlib.figure.Figure at 0x7f510a78c240>"
      ]
     },
     "metadata": {},
     "output_type": "display_data"
    }
   ],
   "source": [
    "plt.plot(X_all, y_all, 'r.', alpha=.5)\n",
    "plt.plot(X_all, d_bar.predict(X_all), 'g.', alpha=.4)\n",
    "plt.axis([-1, 1, -1, 1])"
   ]
  },
  {
   "cell_type": "code",
   "execution_count": 26,
   "metadata": {},
   "outputs": [
    {
     "data": {
      "text/plain": [
       "[-1, 1, -1, 1]"
      ]
     },
     "execution_count": 26,
     "metadata": {},
     "output_type": "execute_result"
    },
    {
     "data": {
      "image/png": "[encoded data removed]",
      "text/plain": [
       "<matplotlib.figure.Figure at 0x7f510a702390>"
      ]
     },
     "metadata": {},
     "output_type": "display_data"
    }
   ],
   "source": [
    "plt.plot(X_all, y_all, 'r.', alpha=.5)\n",
    "plt.plot(X_all, e_bar.predict(X_all), 'g.', alpha=.4)\n",
    "plt.axis([-1, 1, -1, 1])"
   ]
  },
  {
   "cell_type": "code",
   "execution_count": 27,
   "metadata": {
    "collapsed": true
   },
   "outputs": [],
   "source": [
    "from sklearn.linear_model import LinearRegression"
   ]
  },
  {
   "cell_type": "code",
   "execution_count": 28,
   "metadata": {
    "collapsed": true
   },
   "outputs": [],
   "source": [
    "m = LinearRegression(fit_intercept=False)"
   ]
  },
  {
   "cell_type": "code",
   "execution_count": 31,
   "metadata": {},
   "outputs": [],
   "source": [
    "w_sum = np.zeros(1)\n",
    "for X, y in zip(X_models, y_models):\n",
    "    m.fit(X[:, np.newaxis], y)\n",
    "    w_sum += m.coef_"
   ]
  },
  {
   "cell_type": "code",
   "execution_count": 32,
   "metadata": {},
   "outputs": [
    {
     "data": {
      "text/plain": [
       "array([ 1.41868654])"
      ]
     },
     "execution_count": 32,
     "metadata": {},
     "output_type": "execute_result"
    }
   ],
   "source": [
    "w_sum / len(X_models)"
   ]
  },
  {
   "cell_type": "markdown",
   "metadata": {},
   "source": [
    "### VC Dimension"
   ]
  },
  {
   "cell_type": "code",
   "execution_count": 33,
   "metadata": {
    "collapsed": true
   },
   "outputs": [],
   "source": [
    "from scipy.misc import comb"
   ]
  },
  {
   "cell_type": "code",
   "execution_count": 36,
   "metadata": {},
   "outputs": [
    {
     "name": "stdout",
     "output_type": "stream",
     "text": [
      "1.0\n",
      "5.0\n",
      "10.0\n",
      "10.0\n",
      "5.0\n",
      "1.0\n"
     ]
    }
   ],
   "source": [
    "N = 5\n",
    "for k in range(N+1):\n",
    "    print(comb(N, k))"
   ]
  },
  {
   "cell_type": "code",
   "execution_count": 46,
   "metadata": {
    "collapsed": true
   },
   "outputs": [],
   "source": [
    "def my_growth(N, q):\n",
    "    if N == 1:\n",
    "        return 2\n",
    "    return 2*my_growth(N-1, q) - comb(N-1, q)\n",
    "\n",
    "def growth(N, vc):\n",
    "    result = 0\n",
    "    for k in range(vc+1):\n",
    "        result += comb(N, k)\n",
    "    return result"
   ]
  },
  {
   "cell_type": "code",
   "execution_count": 42,
   "metadata": {},
   "outputs": [],
   "source": [
    "q = 3"
   ]
  },
  {
   "cell_type": "code",
   "execution_count": 43,
   "metadata": {},
   "outputs": [
    {
     "data": {
      "text/plain": [
       "2"
      ]
     },
     "execution_count": 43,
     "metadata": {},
     "output_type": "execute_result"
    }
   ],
   "source": [
    "my_growth(1, q)"
   ]
  },
  {
   "cell_type": "code",
   "execution_count": 44,
   "metadata": {},
   "outputs": [
    {
     "data": {
      "text/plain": [
       "4.0"
      ]
     },
     "execution_count": 44,
     "metadata": {},
     "output_type": "execute_result"
    }
   ],
   "source": [
    "my_growth(2, q)"
   ]
  },
  {
   "cell_type": "code",
   "execution_count": 50,
   "metadata": {},
   "outputs": [
    {
     "name": "stdout",
     "output_type": "stream",
     "text": [
      "2\n",
      "4.0\n",
      "8.0\n",
      "15.0\n",
      "26.0\n",
      "42.0\n",
      "64.0\n",
      "93.0\n",
      "130.0\n"
     ]
    }
   ],
   "source": [
    "for n in range(1, 10):\n",
    "    print(my_growth(n, q=3))"
   ]
  },
  {
   "cell_type": "code",
   "execution_count": 51,
   "metadata": {},
   "outputs": [
    {
     "name": "stdout",
     "output_type": "stream",
     "text": [
      "2.0\n",
      "4.0\n",
      "8.0\n",
      "15.0\n",
      "26.0\n",
      "42.0\n",
      "64.0\n",
      "93.0\n",
      "130.0\n"
     ]
    }
   ],
   "source": [
    "for n in range(1, 10):\n",
    "    print(growth(n, vc=3))"
   ]
  },
  {
   "cell_type": "code",
   "execution_count": null,
   "metadata": {
    "collapsed": true
   },
   "outputs": [],
   "source": []
  }
 ],
 "metadata": {
  "kernelspec": {
   "display_name": "Python [conda env:anaconda3]",
   "language": "python",
   "name": "conda-env-anaconda3-py"
  },
  "language_info": {
   "codemirror_mode": {
    "name": "ipython",
    "version": 3
   },
   "file_extension": ".py",
   "mimetype": "text/x-python",
   "name": "python",
   "nbconvert_exporter": "python",
   "pygments_lexer": "ipython3",
   "version": "3.6.4"
  }
 },
 "nbformat": 4,
 "nbformat_minor": 2
}
