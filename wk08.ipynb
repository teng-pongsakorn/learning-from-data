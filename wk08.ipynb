{
 "cells": [
  {
   "cell_type": "code",
   "execution_count": 1,
   "metadata": {
    "collapsed": false
   },
   "outputs": [],
   "source": [
    "import numpy as np\n",
    "import pandas as pd\n",
    "%matplotlib inline\n",
    "import matplotlib.pyplot as plt\n"
   ]
  },
  {
   "cell_type": "code",
   "execution_count": 2,
   "metadata": {
    "collapsed": false
   },
   "outputs": [],
   "source": [
    "from cvxopt import matrix, solvers"
   ]
  },
  {
   "cell_type": "code",
   "execution_count": 4,
   "metadata": {
    "collapsed": false
   },
   "outputs": [
    {
     "name": "stdout",
     "output_type": "stream",
     "text": [
      "--2017-11-14 20:49:26--  http://www.amlbook.com/data/zip/features.train\n",
      "Resolving www.amlbook.com (www.amlbook.com)... 118.139.174.1\n",
      "Connecting to www.amlbook.com (www.amlbook.com)|118.139.174.1|:80... connected.\n",
      "HTTP request sent, awaiting response... 200 OK\n",
      "Length: 357259 (349K)\n",
      "Saving to: ‘features.train’\n",
      "\n",
      "features.train      100%[===================>] 348.89K  2.00MB/s    in 0.2s    \n",
      "\n",
      "2017-11-14 20:49:26 (2.00 MB/s) - ‘features.train’ saved [357259/357259]\n",
      "\n"
     ]
    }
   ],
   "source": [
    "!wget http://www.amlbook.com/data/zip/features.train"
   ]
  },
  {
   "cell_type": "code",
   "execution_count": 6,
   "metadata": {
    "collapsed": false
   },
   "outputs": [
    {
     "name": "stdout",
     "output_type": "stream",
     "text": [
      "--2017-11-14 20:50:11--  http://www.amlbook.com/data/zip/features.test\n",
      "Resolving www.amlbook.com (www.amlbook.com)... 118.139.174.1\n",
      "Connecting to www.amlbook.com (www.amlbook.com)|118.139.174.1|:80... connected.\n",
      "HTTP request sent, awaiting response... 200 OK\n",
      "Length: 98343 (96K)\n",
      "Saving to: ‘features.test’\n",
      "\n",
      "features.test       100%[===================>]  96.04K  --.-KB/s    in 0.06s   \n",
      "\n",
      "2017-11-14 20:50:20 (1.67 MB/s) - ‘features.test’ saved [98343/98343]\n",
      "\n"
     ]
    }
   ],
   "source": [
    "!wget http://www.amlbook.com/data/zip/features.test"
   ]
  },
  {
   "cell_type": "code",
   "execution_count": 2,
   "metadata": {
    "collapsed": false
   },
   "outputs": [
    {
     "data": {
      "text/plain": [
       "((7291, 3), (2007, 3))"
      ]
     },
     "execution_count": 2,
     "metadata": {},
     "output_type": "execute_result"
    }
   ],
   "source": [
    "data_train = np.loadtxt('features.train')\n",
    "data_test = np.loadtxt('features.test')\n",
    "\n",
    "data_train.shape, data_test.shape"
   ]
  },
  {
   "cell_type": "code",
   "execution_count": 16,
   "metadata": {
    "collapsed": false
   },
   "outputs": [
    {
     "data": {
      "text/plain": [
       "array([[ 9.        ,  0.27217773, -4.8479375 ],\n",
       "       [ 6.        ,  0.26513281, -5.102     ],\n",
       "       [ 3.        ,  0.33592578, -2.9215625 ],\n",
       "       [ 6.        ,  0.26484961, -4.156625  ],\n",
       "       [ 6.        ,  0.34533789, -6.7184375 ]])"
      ]
     },
     "execution_count": 16,
     "metadata": {},
     "output_type": "execute_result"
    }
   ],
   "source": [
    "data_test[:5]"
   ]
  },
  {
   "cell_type": "code",
   "execution_count": 17,
   "metadata": {
    "collapsed": false
   },
   "outputs": [
    {
     "data": {
      "text/plain": [
       "array([[ 6.        ,  0.3410918 , -4.5289375 ],\n",
       "       [ 5.        ,  0.44413086, -5.4968125 ],\n",
       "       [ 4.        ,  0.23100195, -2.88675   ],\n",
       "       [ 7.        ,  0.20027539, -3.534375  ],\n",
       "       [ 3.        ,  0.29193555, -4.3520625 ]])"
      ]
     },
     "execution_count": 17,
     "metadata": {},
     "output_type": "execute_result"
    }
   ],
   "source": [
    "data_train[:5]"
   ]
  },
  {
   "cell_type": "code",
   "execution_count": 3,
   "metadata": {
    "collapsed": false
   },
   "outputs": [
    {
     "data": {
      "text/plain": [
       "((7291, 2), (7291,), (2007, 2), (2007,))"
      ]
     },
     "execution_count": 3,
     "metadata": {},
     "output_type": "execute_result"
    }
   ],
   "source": [
    "X_train, y_train = data_train[:, 1:], data_train[:, 0]\n",
    "X_test, y_test = data_test[:, 1:], data_test[:, 0]\n",
    "\n",
    "X_train.shape, y_train.shape, X_test.shape, y_test.shape"
   ]
  },
  {
   "cell_type": "code",
   "execution_count": 20,
   "metadata": {
    "collapsed": false
   },
   "outputs": [
    {
     "data": {
      "text/plain": [
       "0.0    16.376354\n",
       "1.0    13.784117\n",
       "2.0    10.026060\n",
       "6.0     9.107118\n",
       "3.0     9.024825\n",
       "4.0     8.942532\n",
       "7.0     8.846523\n",
       "9.0     8.832808\n",
       "5.0     7.625840\n",
       "8.0     7.433823\n",
       "dtype: float64"
      ]
     },
     "execution_count": 20,
     "metadata": {},
     "output_type": "execute_result"
    }
   ],
   "source": [
    "pd.value_counts(y_train) / len(y_train) * 100"
   ]
  },
  {
   "cell_type": "code",
   "execution_count": 21,
   "metadata": {
    "collapsed": false
   },
   "outputs": [
    {
     "data": {
      "text/plain": [
       "0.0    17.887394\n",
       "1.0    13.153961\n",
       "4.0     9.965122\n",
       "2.0     9.865471\n",
       "9.0     8.819133\n",
       "6.0     8.470354\n",
       "8.0     8.271051\n",
       "3.0     8.271051\n",
       "5.0     7.972098\n",
       "7.0     7.324365\n",
       "dtype: float64"
      ]
     },
     "execution_count": 21,
     "metadata": {},
     "output_type": "execute_result"
    }
   ],
   "source": [
    "pd.value_counts(y_test) / len(y_test) * 100"
   ]
  },
  {
   "cell_type": "code",
   "execution_count": 24,
   "metadata": {
    "collapsed": false
   },
   "outputs": [],
   "source": [
    "#solvers.options['show_progress'] = False"
   ]
  },
  {
   "cell_type": "markdown",
   "metadata": {},
   "source": [
    "### SVM with Soft Margins"
   ]
  },
  {
   "cell_type": "code",
   "execution_count": 4,
   "metadata": {
    "collapsed": false
   },
   "outputs": [],
   "source": [
    "def poly_kernel(x1, x2, q=2):\n",
    "    '''polynomial kernel : (1 + dot(x1,x2))**q'''\n",
    "    return (1 + np.dot(x1, x2))**q\n",
    "\n",
    "\n",
    "def rbf_kernel(x1, x2, gamma=1):\n",
    "    '''radial basis function : e**(-gamma*||x1 - x2||)'''\n",
    "    return np.exp(-gamma * np.linalg.norm(x1 - x2)**2)\n",
    "\n",
    "\n",
    "class MySVM:\n",
    "    '''soft margin SVM'''\n",
    "    def __init__(self, C=None, kernel=np.dot):\n",
    "        self.C = C\n",
    "        self.kernel = kernel\n",
    "        \n",
    "    def fit(self, X, y):\n",
    "        from cvxopt import matrix, solvers\n",
    "        #solvers.options['show_progress'] = False\n",
    "        \n",
    "        n, m = X.shape\n",
    "        \n",
    "        # create Gram matrix\n",
    "        P = np.empty((n, n))\n",
    "        for i in range(n-1):\n",
    "            P[i, i] = self.kernel(X[i], X[i])\n",
    "            for j in range(i+1, n):\n",
    "                P[i, j] = P[j, i] = self.kernel(X[i], X[j])\n",
    "        P[i+1, i+1] = self.kernel(X[i+1], X[i+1])\n",
    "        P = matrix(P)\n",
    "        \n",
    "        # -a = 0\n",
    "        q = np.ones(n) * -1.0\n",
    "        q = matrix(q)\n",
    "        \n",
    "        # Y*a = 0\n",
    "        A = matrix(np.diag(y), tc='d')\n",
    "        b = matrix(np.zeros(n))\n",
    "        \n",
    "        # -a <= 0\n",
    "        if self.C is None:\n",
    "            # hard margin SVM\n",
    "            G = matrix(-np.eye(n, dtype=float))\n",
    "            h = matrix(np.zeros(n))\n",
    "        # if C : a <= C, -a <= 0\n",
    "        else:\n",
    "            # soft margin SVM\n",
    "            G = matrix(np.vstack((-np.eye(n, dtype=float), np.eye(n, dtype=float))))\n",
    "            h = matrix(np.r_[np.zeros(n), np.full(n, self.C)])\n",
    "        \n",
    "        # qp(P, q, G, h, A, b)\n",
    "        alphas = np.ravel(solvers.qp(P, q, G, h, A, b)['x'])\n",
    "        \n",
    "        is_svm = (alphas > 1e-5)\n",
    "        print(alphas.min())\n",
    "        assert is_svm.sum() > 0\n",
    "        self.alphas_ = alphas[is_svm]\n",
    "        self.y_svm_ = y[is_svm]\n",
    "        self.support_vectors_ = X[is_svm, :]\n",
    "        print(self.alphas_.shape, self.y_svm_.shape, self.support_vectors_.shape)\n",
    "        self.b_ = self.y_svm_[0] - sum(y*a*self.kernel(x, self.support_vectors_[0, :]) \n",
    "                                                       for y,a,x in zip(self.y_svm_, self.alphas_, self.support_vectors_))\n",
    "        return self\n",
    "        \n",
    "    def predict(self, X):\n",
    "        results = np.empty(len(X))\n",
    "        for i, xs in enumerate(X):\n",
    "            results[i] = self.b_ + sum(a*y*self.kernel(x, xs) \n",
    "                                       for a, y, x in zip(self.alphas_, self.y_svm_, self.support_vectors_))\n",
    "        return results"
   ]
  },
  {
   "cell_type": "code",
   "execution_count": 9,
   "metadata": {
    "collapsed": true
   },
   "outputs": [],
   "source": [
    "from sklearn.svm import SVC"
   ]
  },
  {
   "cell_type": "code",
   "execution_count": 43,
   "metadata": {
    "collapsed": false
   },
   "outputs": [
    {
     "name": "stdout",
     "output_type": "stream",
     "text": [
      "E_in[0] = 0.10588396653408316, 2179 support vectors\n",
      "E_in[1] = 0.014401316691811772, 386 support vectors\n",
      "E_in[2] = 0.10026059525442321, 1970 support vectors\n",
      "E_in[3] = 0.09024825126868741, 1950 support vectors\n",
      "E_in[4] = 0.08942531888629812, 1856 support vectors\n",
      "E_in[5] = 0.07625840076807022, 1585 support vectors\n",
      "E_in[6] = 0.09107118365107669, 1893 support vectors\n",
      "E_in[7] = 0.08846523110684401, 1704 support vectors\n",
      "E_in[8] = 0.074338225209162, 1776 support vectors\n",
      "E_in[9] = 0.08832807570977919, 1978 support vectors\n"
     ]
    }
   ],
   "source": [
    "L = [0, 1, 2, 3, 4, 5, 6, 7, 8, 9]\n",
    "for num in L:\n",
    "    y_vs_all = np.where(y_train==num, 1, -1)\n",
    "    svm = SVC(C=0.01, kernel='poly', gamma=1, coef0=1, degree=2).fit(X_train, y_vs_all)\n",
    "    print('E_in[{}] = {}, {} support vectors'.format(num, 1-svm.score(X_train, y_vs_all), svm.n_support_.sum()))"
   ]
  },
  {
   "cell_type": "code",
   "execution_count": 45,
   "metadata": {
    "collapsed": false
   },
   "outputs": [
    {
     "data": {
      "text/plain": [
       "1793"
      ]
     },
     "execution_count": 45,
     "metadata": {},
     "output_type": "execute_result"
    }
   ],
   "source": [
    "2179 - 386"
   ]
  },
  {
   "cell_type": "code",
   "execution_count": 31,
   "metadata": {
    "collapsed": true
   },
   "outputs": [],
   "source": [
    "one_or_five_train = (y_train == 1) | (y_train == 5)\n",
    "one_or_five_test = (y_test == 1) | (y_test == 5)"
   ]
  },
  {
   "cell_type": "code",
   "execution_count": 34,
   "metadata": {
    "collapsed": false
   },
   "outputs": [],
   "source": [
    "X_train_1_vs_5 = X_train[one_or_five_train, :]\n",
    "y_train_1_vs_5 = np.where(y_train[one_or_five_train]==1, 1, -1)\n",
    "\n",
    "X_test_1_vs_5 = X_test[one_or_five_test, :]\n",
    "y_test_1_vs_5 = np.where(y_test[one_or_five_test]==1, 1, -1)"
   ]
  },
  {
   "cell_type": "code",
   "execution_count": 44,
   "metadata": {
    "collapsed": false
   },
   "outputs": [
    {
     "name": "stdout",
     "output_type": "stream",
     "text": [
      "C=0.0001, Q=2, E_in:0.00897, E_out:0.01651, num_SV=236\n",
      "C=0.0001, Q=5, E_in:0.00448, E_out:0.01887, num_SV=26\n",
      "C=0.001, Q=2, E_in:0.00448, E_out:0.01651, num_SV=76\n",
      "C=0.001, Q=5, E_in:0.00448, E_out:0.02123, num_SV=25\n",
      "C=0.01, Q=2, E_in:0.00448, E_out:0.01887, num_SV=34\n",
      "C=0.01, Q=5, E_in:0.00384, E_out:0.02123, num_SV=23\n",
      "C=0.1, Q=2, E_in:0.00448, E_out:0.01887, num_SV=24\n",
      "C=0.1, Q=5, E_in:0.00320, E_out:0.01887, num_SV=25\n",
      "C=1, Q=2, E_in:0.00320, E_out:0.01887, num_SV=24\n",
      "C=1, Q=5, E_in:0.00320, E_out:0.02123, num_SV=21\n"
     ]
    }
   ],
   "source": [
    "for C in [.0001, .001, .01, .1, 1]:\n",
    "    for Q in [2, 5]:\n",
    "        svm = SVC(C=C, kernel='poly', gamma=1, degree=Q, coef0=1).fit(X_train_1_vs_5, y_train_1_vs_5)\n",
    "        print(\"C={}, Q={}, E_in:{:.5f}, E_out:{:.5f}, num_SV={}\".format(C, Q,\n",
    "                                                      1-svm.score(X_train_1_vs_5, y_train_1_vs_5),\n",
    "                                                      1-svm.score(X_test_1_vs_5, y_test_1_vs_5), \n",
    "                                                      svm.n_support_.sum()))"
   ]
  },
  {
   "cell_type": "markdown",
   "metadata": {},
   "source": [
    "### Cross Validation"
   ]
  },
  {
   "cell_type": "code",
   "execution_count": 46,
   "metadata": {
    "collapsed": true
   },
   "outputs": [],
   "source": [
    "from sklearn.model_selection import StratifiedKFold"
   ]
  },
  {
   "cell_type": "code",
   "execution_count": null,
   "metadata": {
    "collapsed": false
   },
   "outputs": [],
   "source": []
  },
  {
   "cell_type": "code",
   "execution_count": 77,
   "metadata": {
    "collapsed": false
   },
   "outputs": [],
   "source": [
    "C_list = [.0001, .001, .01, .1, 1.]\n",
    "cv = StratifiedKFold(n_splits=10, shuffle=True)\n",
    "C_selected = {c: 0 for c in C_list}\n",
    "E_cv_avg = {c: 0 for c in C_list}\n",
    "\n",
    "for run in range(100):\n",
    "    E_cv_by_C = {c: 0 for c in C_list}\n",
    "    for train_idx, test_idx in cv.split(X_train_1_vs_5, y_train_1_vs_5, y_train_1_vs_5):\n",
    "        X_train_cv = X_train_1_vs_5[train_idx, :]\n",
    "        y_train_cv = y_train_1_vs_5[train_idx]\n",
    "        X_test_cv = X_train_1_vs_5[test_idx, :]\n",
    "        y_test_cv = y_train_1_vs_5[test_idx]\n",
    "        for c in C_list:\n",
    "            svm = SVC(C=c, kernel='poly', gamma=1, coef0=1, degree=2).fit(X_train_cv, y_train_cv)\n",
    "            E_cv_by_C[c] += 1-svm.score(X_test_cv, y_test_cv)\n",
    "    c_min = min(((v,k) for k,v in E_cv_by_C.items()), key=lambda x: x[0])[1]\n",
    "    for c, e in E_cv_by_C.items():\n",
    "        E_cv_avg[c] += e/10\n",
    "        \n",
    "    C_selected[c_min] += 1"
   ]
  },
  {
   "cell_type": "code",
   "execution_count": 78,
   "metadata": {
    "collapsed": false
   },
   "outputs": [
    {
     "data": {
      "text/plain": [
       "{0.0001: 0, 0.001: 49, 0.01: 23, 0.1: 14, 1.0: 14}"
      ]
     },
     "execution_count": 78,
     "metadata": {},
     "output_type": "execute_result"
    }
   ],
   "source": [
    "C_selected"
   ]
  },
  {
   "cell_type": "code",
   "execution_count": 79,
   "metadata": {
    "collapsed": false
   },
   "outputs": [
    {
     "data": {
      "text/plain": [
       "{0.0001: 0.0097563196409097448,\n",
       " 0.001: 0.0047601607898299951,\n",
       " 0.01: 0.0046956451876320419,\n",
       " 0.1: 0.004760037247185391,\n",
       " 1.0: 0.004881754674337377}"
      ]
     },
     "execution_count": 79,
     "metadata": {},
     "output_type": "execute_result"
    }
   ],
   "source": [
    "{k:v/100 for k,v in E_cv_avg.items()}"
   ]
  },
  {
   "cell_type": "markdown",
   "metadata": {},
   "source": [
    "### RBF Kernel"
   ]
  },
  {
   "cell_type": "code",
   "execution_count": 62,
   "metadata": {
    "collapsed": false
   },
   "outputs": [
    {
     "name": "stdout",
     "output_type": "stream",
     "text": [
      "C=0.01, E_in:0.0038436899423446302, E_out:0.02358490566037741\n",
      "C=1, E_in:0.004484304932735439, E_out:0.021226415094339646\n",
      "C=100, E_in:0.0032030749519538215, E_out:0.018867924528301883\n",
      "C=10000.0, E_in:0.002562459961563124, E_out:0.02358490566037741\n",
      "C=1000000.0, E_in:0.0006406149903908087, E_out:0.02358490566037741\n"
     ]
    }
   ],
   "source": [
    "C_list = .01, 1, 100, 1e4, 1e6\n",
    "\n",
    "for c in C_list:\n",
    "    svm = SVC(C=c, kernel='rbf', gamma=1).fit(X_train_1_vs_5, y_train_1_vs_5)\n",
    "    print(\"C={}, E_in:{}, E_out:{}\".format(c, \n",
    "                                           1-svm.score(X_train_1_vs_5, y_train_1_vs_5), \n",
    "                                           1-svm.score(X_test_1_vs_5, y_test_1_vs_5)))"
   ]
  },
  {
   "cell_type": "code",
   "execution_count": null,
   "metadata": {
    "collapsed": true
   },
   "outputs": [],
   "source": []
  }
 ],
 "metadata": {
  "kernelspec": {
   "display_name": "py34",
   "language": "python",
   "name": "py34"
  },
  "language_info": {
   "codemirror_mode": {
    "name": "ipython",
    "version": 3
   },
   "file_extension": ".py",
   "mimetype": "text/x-python",
   "name": "python",
   "nbconvert_exporter": "python",
   "pygments_lexer": "ipython3",
   "version": "3.6.0"
  }
 },
 "nbformat": 4,
 "nbformat_minor": 2
}
