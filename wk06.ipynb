{
 "cells": [
  {
   "cell_type": "code",
   "execution_count": 74,
   "metadata": {
    "collapsed": true
   },
   "outputs": [],
   "source": [
    "import numpy as np\n",
    "import pandas as pd\n",
    "import matplotlib.pyplot as plt\n",
    "from sklearn.linear_model import LinearRegression, Ridge\n",
    "\n",
    "%matplotlib inline"
   ]
  },
  {
   "cell_type": "markdown",
   "metadata": {},
   "source": [
    "### Regularization with Weight Decay"
   ]
  },
  {
   "cell_type": "code",
   "execution_count": 2,
   "metadata": {
    "collapsed": false
   },
   "outputs": [
    {
     "name": "stdout",
     "output_type": "stream",
     "text": [
      "--2017-10-31 19:10:43--  http://work.caltech.edu/data/in.dta\n",
      "Resolving work.caltech.edu (work.caltech.edu)... 64:ff9b::83d7:8563, 131.215.133.99\n",
      "Connecting to work.caltech.edu (work.caltech.edu)|64:ff9b::83d7:8563|:80... connected.\n",
      "HTTP request sent, awaiting response... 200 OK\n",
      "Length: 1750 (1.7K) [text/plain]\n",
      "Saving to: ‘in.dta’\n",
      "\n",
      "in.dta              100%[===================>]   1.71K  --.-KB/s    in 0s      \n",
      "\n",
      "2017-10-31 19:10:44 (72.3 MB/s) - ‘in.dta’ saved [1750/1750]\n",
      "\n"
     ]
    }
   ],
   "source": [
    "!wget http://work.caltech.edu/data/in.dta"
   ]
  },
  {
   "cell_type": "code",
   "execution_count": 3,
   "metadata": {
    "collapsed": false
   },
   "outputs": [
    {
     "name": "stdout",
     "output_type": "stream",
     "text": [
      "--2017-10-31 19:10:56--  http://work.caltech.edu/data/out.dta\n",
      "Resolving work.caltech.edu (work.caltech.edu)... 64:ff9b::83d7:8563, 131.215.133.99\n",
      "Connecting to work.caltech.edu (work.caltech.edu)|64:ff9b::83d7:8563|:80... connected.\n",
      "HTTP request sent, awaiting response... 200 OK\n",
      "Length: 12500 (12K) [text/plain]\n",
      "Saving to: ‘out.dta’\n",
      "\n",
      "out.dta             100%[===================>]  12.21K  --.-KB/s    in 0.003s  \n",
      "\n",
      "2017-10-31 19:10:56 (3.73 MB/s) - ‘out.dta’ saved [12500/12500]\n",
      "\n"
     ]
    }
   ],
   "source": [
    "!wget http://work.caltech.edu/data/out.dta"
   ]
  },
  {
   "cell_type": "code",
   "execution_count": 4,
   "metadata": {
    "collapsed": false
   },
   "outputs": [
    {
     "name": "stdout",
     "output_type": "stream",
     "text": [
      "  -7.7947021e-01   8.3822138e-01   1.0000000e+00\r",
      "\r\n",
      "   1.5563491e-01   8.9537743e-01   1.0000000e+00\r",
      "\r\n",
      "  -5.9907703e-02  -7.1777995e-01   1.0000000e+00\r",
      "\r\n",
      "   2.0759636e-01   7.5893338e-01   1.0000000e+00\r",
      "\r\n",
      "  -1.9598312e-01  -3.7548716e-01  -1.0000000e+00\r",
      "\r\n",
      "   5.8848947e-01  -8.4255381e-01   1.0000000e+00\r",
      "\r\n",
      "   7.1985874e-03  -5.4831650e-01  -1.0000000e+00\r",
      "\r\n",
      "   7.3883852e-01  -6.0339369e-01   1.0000000e+00\r",
      "\r\n",
      "   7.0464808e-01  -2.0420052e-02   1.0000000e+00\r",
      "\r\n",
      "   9.6992666e-01   6.4137120e-01  -1.0000000e+00\r",
      "\r\n"
     ]
    }
   ],
   "source": [
    "!head in.dta"
   ]
  },
  {
   "cell_type": "code",
   "execution_count": 5,
   "metadata": {
    "collapsed": false
   },
   "outputs": [
    {
     "name": "stdout",
     "output_type": "stream",
     "text": [
      "  -1.0600562e-01  -8.1467034e-02  -1.0000000e+00\r",
      "\r\n",
      "   1.7792951e-01  -3.4595141e-01  -1.0000000e+00\r",
      "\r\n",
      "   1.0216153e-01   7.1825825e-01   1.0000000e+00\r",
      "\r\n",
      "   6.9407831e-01   6.2339743e-01  -1.0000000e+00\r",
      "\r\n",
      "   2.3541068e-02   7.2743221e-01   1.0000000e+00\r",
      "\r\n",
      "  -3.1972776e-01  -8.3411411e-01  -1.0000000e+00\r",
      "\r\n",
      "  -1.8674372e-01   5.3887798e-01   1.0000000e+00\r",
      "\r\n",
      "  -6.3696719e-01   1.5268485e-01   1.0000000e+00\r",
      "\r\n",
      "  -4.7446260e-01   8.5434436e-01   1.0000000e+00\r",
      "\r\n",
      "  -3.5627652e-02  -2.7158819e-01  -1.0000000e+00\r",
      "\r\n"
     ]
    }
   ],
   "source": [
    "!head out.dta"
   ]
  },
  {
   "cell_type": "code",
   "execution_count": 18,
   "metadata": {
    "collapsed": false
   },
   "outputs": [],
   "source": [
    "in_data = np.loadtxt('in.dta')\n",
    "out_data = np.loadtxt('out.dta')"
   ]
  },
  {
   "cell_type": "code",
   "execution_count": 19,
   "metadata": {
    "collapsed": false
   },
   "outputs": [
    {
     "data": {
      "text/plain": [
       "((35, 2), (35,))"
      ]
     },
     "execution_count": 19,
     "metadata": {},
     "output_type": "execute_result"
    }
   ],
   "source": [
    "X_train, y_train = in_data[:, :-1], in_data[:, -1]\n",
    "X_train.shape, y_train.shape"
   ]
  },
  {
   "cell_type": "code",
   "execution_count": 20,
   "metadata": {
    "collapsed": false
   },
   "outputs": [
    {
     "data": {
      "text/plain": [
       "((250, 2), (250,))"
      ]
     },
     "execution_count": 20,
     "metadata": {},
     "output_type": "execute_result"
    }
   ],
   "source": [
    "X_test, y_test = out_data[:, :-1], out_data[:, -1]\n",
    "X_test.shape, y_test.shape"
   ]
  },
  {
   "cell_type": "code",
   "execution_count": 26,
   "metadata": {
    "collapsed": false
   },
   "outputs": [
    {
     "data": {
      "text/plain": [
       "<matplotlib.text.Text at 0x7f9b87926080>"
      ]
     },
     "execution_count": 26,
     "metadata": {},
     "output_type": "execute_result"
    },
    {
     "data": {
      "image/png": "[encoded data removed]",
      "text/plain": [
       "<matplotlib.figure.Figure at 0x7f9b8798c320>"
      ]
     },
     "metadata": {},
     "output_type": "display_data"
    }
   ],
   "source": [
    "plt.figure(figsize=(5, 5))\n",
    "plt.scatter(X_train[:, 0], X_train[:, 1], c=y_train)\n",
    "plt.title('Train data')\n",
    "plt.xlabel('x1')\n",
    "plt.ylabel('x2')"
   ]
  },
  {
   "cell_type": "code",
   "execution_count": 42,
   "metadata": {
    "collapsed": false
   },
   "outputs": [],
   "source": [
    "def z_transform(X):\n",
    "    '''\n",
    "    input => (x1, x2)\n",
    "    output => (1, x1, x2, x1**2, x2**2, x1*x2, |x1-x2|, |x1+x2|)\n",
    "    '''\n",
    "    x1, x2 = X.T\n",
    "    return np.c_[np.ones(X.shape[0]), x1, x2, x1**2, x2**2, x1*x2, np.abs(x1 - x2), np.abs(x1 + x2)]\n",
    "\n",
    "def clf_error(y_true, y_pred):\n",
    "    errors = (y_true != y_pred).sum() / len(y_true)\n",
    "    return errors"
   ]
  },
  {
   "cell_type": "code",
   "execution_count": 29,
   "metadata": {
    "collapsed": false
   },
   "outputs": [
    {
     "data": {
      "text/plain": [
       "((35, 8), (250, 8))"
      ]
     },
     "execution_count": 29,
     "metadata": {},
     "output_type": "execute_result"
    }
   ],
   "source": [
    "X_train_transform = z_transform(X_train)\n",
    "X_test_transform = z_transform(X_test)\n",
    "\n",
    "X_train_transform.shape, X_test_transform.shape"
   ]
  },
  {
   "cell_type": "code",
   "execution_count": 30,
   "metadata": {
    "collapsed": true
   },
   "outputs": [],
   "source": [
    "linreg = LinearRegression().fit(X_train_transform, y_train)"
   ]
  },
  {
   "cell_type": "code",
   "execution_count": 43,
   "metadata": {
    "collapsed": true
   },
   "outputs": [],
   "source": [
    "y_train_pred = np.sign(linreg.predict(X_train_transform))\n",
    "y_test_pred = np.sign(linreg.predict(X_test_transform))"
   ]
  },
  {
   "cell_type": "code",
   "execution_count": 44,
   "metadata": {
    "collapsed": false
   },
   "outputs": [
    {
     "data": {
      "text/plain": [
       "0.028571428571428571"
      ]
     },
     "execution_count": 44,
     "metadata": {},
     "output_type": "execute_result"
    }
   ],
   "source": [
    "clf_error(y_train, y_train_pred)"
   ]
  },
  {
   "cell_type": "code",
   "execution_count": 45,
   "metadata": {
    "collapsed": false
   },
   "outputs": [
    {
     "data": {
      "text/plain": [
       "0.084000000000000005"
      ]
     },
     "execution_count": 45,
     "metadata": {},
     "output_type": "execute_result"
    }
   ],
   "source": [
    "clf_error(y_test, y_test_pred)"
   ]
  },
  {
   "cell_type": "code",
   "execution_count": 60,
   "metadata": {
    "collapsed": false
   },
   "outputs": [],
   "source": [
    "class MyLinearClassifier:\n",
    "    \n",
    "    def __init__(self, alpha=0.0):\n",
    "        self.alpha = alpha\n",
    "        \n",
    "    def fit(self, X, y):\n",
    "        self.w_ = np.dot(np.linalg.inv(np.dot(X.T, X) + self.alpha*np.identity(X.shape[1])), np.dot(X.T, y))\n",
    "        #self.w_ = np.dot(np.linalg.pinv(X), y) + np.dot(self.alpha*np.identity(X.shape[1]), np.dot(X.T, y))\n",
    "        return self\n",
    "        \n",
    "    def predict(self, X):\n",
    "        return np.sign(np.dot(X, self.w_))\n",
    "    \n",
    "    def score(self, X, y):\n",
    "        y_pred = self.predict(X)\n",
    "        miss_classify = (y != y_pred).sum() / len(y)\n",
    "        return miss_classify"
   ]
  },
  {
   "cell_type": "code",
   "execution_count": 61,
   "metadata": {
    "collapsed": true
   },
   "outputs": [],
   "source": [
    "my_lin = MyLinearClassifier()"
   ]
  },
  {
   "cell_type": "code",
   "execution_count": 62,
   "metadata": {
    "collapsed": false
   },
   "outputs": [
    {
     "data": {
      "text/plain": [
       "<__main__.MyLinearClassifier at 0x7f9b7c592e80>"
      ]
     },
     "execution_count": 62,
     "metadata": {},
     "output_type": "execute_result"
    }
   ],
   "source": [
    "my_lin.fit(X_train_transform, y_train)"
   ]
  },
  {
   "cell_type": "code",
   "execution_count": 63,
   "metadata": {
    "collapsed": false
   },
   "outputs": [
    {
     "data": {
      "text/plain": [
       "0.028571428571428571"
      ]
     },
     "execution_count": 63,
     "metadata": {},
     "output_type": "execute_result"
    }
   ],
   "source": [
    "my_lin.score(X_train_transform, y_train)"
   ]
  },
  {
   "cell_type": "code",
   "execution_count": 64,
   "metadata": {
    "collapsed": false
   },
   "outputs": [
    {
     "data": {
      "text/plain": [
       "0.084000000000000005"
      ]
     },
     "execution_count": 64,
     "metadata": {},
     "output_type": "execute_result"
    }
   ],
   "source": [
    "my_lin.score(X_test_transform, y_test)"
   ]
  },
  {
   "cell_type": "code",
   "execution_count": 65,
   "metadata": {
    "collapsed": true
   },
   "outputs": [],
   "source": [
    "my_lin2 = MyLinearClassifier(alpha=1e-3).fit(X_train_transform, y_train)"
   ]
  },
  {
   "cell_type": "code",
   "execution_count": 66,
   "metadata": {
    "collapsed": false
   },
   "outputs": [
    {
     "data": {
      "text/plain": [
       "0.028571428571428571"
      ]
     },
     "execution_count": 66,
     "metadata": {},
     "output_type": "execute_result"
    }
   ],
   "source": [
    "my_lin2.score(X_train_transform, y_train)"
   ]
  },
  {
   "cell_type": "code",
   "execution_count": 67,
   "metadata": {
    "collapsed": false
   },
   "outputs": [
    {
     "data": {
      "text/plain": [
       "0.080000000000000002"
      ]
     },
     "execution_count": 67,
     "metadata": {},
     "output_type": "execute_result"
    }
   ],
   "source": [
    "my_lin2.score(X_test_transform, y_test)"
   ]
  },
  {
   "cell_type": "code",
   "execution_count": 68,
   "metadata": {
    "collapsed": true
   },
   "outputs": [],
   "source": [
    "my_lin3 = MyLinearClassifier(alpha=1e3).fit(X_train_transform, y_train)"
   ]
  },
  {
   "cell_type": "code",
   "execution_count": 69,
   "metadata": {
    "collapsed": false
   },
   "outputs": [
    {
     "data": {
      "text/plain": [
       "0.37142857142857144"
      ]
     },
     "execution_count": 69,
     "metadata": {},
     "output_type": "execute_result"
    }
   ],
   "source": [
    "my_lin3.score(X_train_transform, y_train)"
   ]
  },
  {
   "cell_type": "code",
   "execution_count": 70,
   "metadata": {
    "collapsed": false
   },
   "outputs": [
    {
     "data": {
      "text/plain": [
       "0.436"
      ]
     },
     "execution_count": 70,
     "metadata": {},
     "output_type": "execute_result"
    }
   ],
   "source": [
    "my_lin3.score(X_test_transform, y_test)"
   ]
  },
  {
   "cell_type": "code",
   "execution_count": 73,
   "metadata": {
    "collapsed": false
   },
   "outputs": [
    {
     "name": "stdout",
     "output_type": "stream",
     "text": [
      "k=-10, out_score: 0.084\n",
      "k=-9, out_score: 0.084\n",
      "k=-8, out_score: 0.084\n",
      "k=-7, out_score: 0.084\n",
      "k=-6, out_score: 0.084\n",
      "k=-5, out_score: 0.084\n",
      "k=-4, out_score: 0.084\n",
      "k=-3, out_score: 0.08\n",
      "k=-2, out_score: 0.084\n",
      "k=-1, out_score: 0.056\n",
      "k=0, out_score: 0.092\n",
      "k=1, out_score: 0.124\n",
      "k=2, out_score: 0.228\n",
      "k=3, out_score: 0.436\n",
      "k=4, out_score: 0.452\n",
      "k=5, out_score: 0.456\n",
      "k=6, out_score: 0.456\n",
      "k=7, out_score: 0.456\n",
      "k=8, out_score: 0.456\n",
      "k=9, out_score: 0.456\n"
     ]
    }
   ],
   "source": [
    "for k in range(-10, 10):\n",
    "    m = MyLinearClassifier(alpha=10**k).fit(X_train_transform, y_train)\n",
    "    print('k={}, out_score: {}'.format(k, m.score(X_test_transform, y_test)))"
   ]
  },
  {
   "cell_type": "code",
   "execution_count": 75,
   "metadata": {
    "collapsed": true
   },
   "outputs": [],
   "source": [
    "ridge = Ridge(alpha=.1).fit(X_train_transform, y_train)"
   ]
  },
  {
   "cell_type": "code",
   "execution_count": 78,
   "metadata": {
    "collapsed": true
   },
   "outputs": [],
   "source": [
    "y_test_pred = np.sign(ridge.predict(X_test_transform))"
   ]
  },
  {
   "cell_type": "code",
   "execution_count": 79,
   "metadata": {
    "collapsed": false
   },
   "outputs": [
    {
     "data": {
      "text/plain": [
       "0.056000000000000001"
      ]
     },
     "execution_count": 79,
     "metadata": {},
     "output_type": "execute_result"
    }
   ],
   "source": [
    "clf_error(y_test, y_test_pred)"
   ]
  },
  {
   "cell_type": "code",
   "execution_count": 80,
   "metadata": {
    "collapsed": false
   },
   "outputs": [
    {
     "data": {
      "text/plain": [
       "494"
      ]
     },
     "execution_count": 80,
     "metadata": {},
     "output_type": "execute_result"
    }
   ],
   "source": [
    "170 + 18*17 + 18"
   ]
  },
  {
   "cell_type": "code",
   "execution_count": 81,
   "metadata": {
    "collapsed": false
   },
   "outputs": [
    {
     "data": {
      "text/plain": [
       "501"
      ]
     },
     "execution_count": 81,
     "metadata": {},
     "output_type": "execute_result"
    }
   ],
   "source": [
    "180 + 19*16 + 17"
   ]
  },
  {
   "cell_type": "code",
   "execution_count": 82,
   "metadata": {
    "collapsed": false
   },
   "outputs": [
    {
     "data": {
      "text/plain": [
       "506"
      ]
     },
     "execution_count": 82,
     "metadata": {},
     "output_type": "execute_result"
    }
   ],
   "source": [
    "190 + 20*15 + 16"
   ]
  },
  {
   "cell_type": "code",
   "execution_count": 83,
   "metadata": {
    "collapsed": false
   },
   "outputs": [
    {
     "data": {
      "text/plain": [
       "509"
      ]
     },
     "execution_count": 83,
     "metadata": {},
     "output_type": "execute_result"
    }
   ],
   "source": [
    "200 + 21*14 + 15"
   ]
  },
  {
   "cell_type": "code",
   "execution_count": 84,
   "metadata": {
    "collapsed": false
   },
   "outputs": [
    {
     "data": {
      "text/plain": [
       "510"
      ]
     },
     "execution_count": 84,
     "metadata": {},
     "output_type": "execute_result"
    }
   ],
   "source": [
    "210 + 22*13 + 14"
   ]
  },
  {
   "cell_type": "code",
   "execution_count": null,
   "metadata": {
    "collapsed": true
   },
   "outputs": [],
   "source": []
  }
 ],
 "metadata": {
  "kernelspec": {
   "display_name": "Python 3",
   "language": "python",
   "name": "python3"
  },
  "language_info": {
   "codemirror_mode": {
    "name": "ipython",
    "version": 3
   },
   "file_extension": ".py",
   "mimetype": "text/x-python",
   "name": "python",
   "nbconvert_exporter": "python",
   "pygments_lexer": "ipython3",
   "version": "3.5.4"
  }
 },
 "nbformat": 4,
 "nbformat_minor": 2
}
