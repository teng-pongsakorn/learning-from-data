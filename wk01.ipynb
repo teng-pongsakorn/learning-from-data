{
 "cells": [
  {
   "cell_type": "code",
   "execution_count": 2,
   "metadata": {
    "collapsed": true
   },
   "outputs": [],
   "source": [
    "import numpy as np\n",
    "import matplotlib.pyplot as plt\n",
    "%matplotlib inline"
   ]
  },
  {
   "cell_type": "code",
   "execution_count": 263,
   "metadata": {
    "collapsed": true
   },
   "outputs": [],
   "source": [
    "class PLA:\n",
    "    '''Perceptron Learning Algorithm'''\n",
    "    \n",
    "    def __init__(self, w=None, max_iters = 200):\n",
    "        self._w = w\n",
    "        self._niters = 0\n",
    "        self._max_iters = max_iters\n",
    "    \n",
    "    def fit(self, X, y):\n",
    "        if self._w is None:\n",
    "            self._w = np.zeros(3)\n",
    "            \n",
    "        if X.shape[1] == 2:\n",
    "            X = np.c_[np.ones(len(X)), X]\n",
    "            \n",
    "        y_pred = self.predict(X)\n",
    "        while not np.alltrue(y_pred == y):\n",
    "            self._niters += 1\n",
    "            X_miss = X[y_pred != y]\n",
    "            y_miss = y[y_pred != y]\n",
    "            if len(X_miss) > 0:\n",
    "                idx = np.random.randint(0, X_miss.shape[0])\n",
    "                self._w += y_miss[idx]*X_miss[idx]\n",
    "            if self._niters > self._max_iters:\n",
    "                #print('exit training: exceed maximum epoch')\n",
    "                break\n",
    "            y_pred = self.predict(X)\n",
    "        return self\n",
    "    \n",
    "    def predict(self, X):\n",
    "        y = self.product(X)\n",
    "        if y is not None:\n",
    "            return self.activation(y)\n",
    "    \n",
    "    def product(self, X):\n",
    "        if X.shape[1] == 2:\n",
    "            X = np.c_[np.ones(len(X)), X]\n",
    "        \n",
    "        try:\n",
    "            return np.dot(X, self._w)\n",
    "        except TypeError:\n",
    "            print('No weights found')\n",
    "            return\n",
    "    \n",
    "    def activation(self, y):\n",
    "        '''\n",
    "        +1 if y_i > 0\n",
    "        -1 if y_i < 0\n",
    "        0 otherwise\n",
    "        '''\n",
    "        return np.sign(y)"
   ]
  },
  {
   "cell_type": "code",
   "execution_count": 75,
   "metadata": {},
   "outputs": [],
   "source": [
    "def rand_points(n):\n",
    "    '''return n (x, y) points'''\n",
    "    return np.random.uniform(low=-1, high=1, size=n*2).reshape(-1, 2)\n",
    "\n",
    "def get_weights_from_2point(p1, p2):\n",
    "    '''return [w0, w1, w2] from two given 2d-points'''\n",
    "    v = p1 - p2\n",
    "    w = np.array([-v[1]*p1[0] + v[0]*p1[1], v[1], v[0]])\n",
    "    return w"
   ]
  },
  {
   "cell_type": "code",
   "execution_count": 5,
   "metadata": {},
   "outputs": [
    {
     "data": {
      "text/plain": [
       "<matplotlib.lines.Line2D at 0x7f6c346e3320>"
      ]
     },
     "execution_count": 5,
     "metadata": {},
     "output_type": "execute_result"
    },
    {
     "data": {
      "image/png": "[encoded data removed]",
      "text/plain": [
       "<matplotlib.figure.Figure at 0x7f6c346e3a90>"
      ]
     },
     "metadata": {},
     "output_type": "display_data"
    }
   ],
   "source": [
    "np.random.seed(55)\n",
    "\n",
    "p1 = np.random.uniform(low=-1., high=1., size=2)\n",
    "p2 = np.random.uniform(low=-1., high=1., size=2)\n",
    "\n",
    "plt.plot((p1[0], p2[0]), (p1[1], p2[1]))\n",
    "plt.axis([-1,1,1,-1])\n",
    "plt.axhline(y=0, color='k')\n",
    "plt.axvline(x=0, color='k')"
   ]
  },
  {
   "cell_type": "code",
   "execution_count": 6,
   "metadata": {},
   "outputs": [
    {
     "data": {
      "text/plain": [
       "array([ 0.78150339, -1.45826644])"
      ]
     },
     "execution_count": 6,
     "metadata": {},
     "output_type": "execute_result"
    }
   ],
   "source": [
    "v = p2 - p1\n",
    "v"
   ]
  },
  {
   "cell_type": "code",
   "execution_count": 7,
   "metadata": {
    "collapsed": true
   },
   "outputs": [],
   "source": [
    "w = np.array([-v[1]*p1[0] + v[0]*p1[1], v[1], v[0]])"
   ]
  },
  {
   "cell_type": "code",
   "execution_count": 8,
   "metadata": {},
   "outputs": [
    {
     "data": {
      "text/plain": [
       "array([-0.44951166, -1.45826644,  0.78150339])"
      ]
     },
     "execution_count": 8,
     "metadata": {},
     "output_type": "execute_result"
    }
   ],
   "source": [
    "w"
   ]
  },
  {
   "cell_type": "code",
   "execution_count": 138,
   "metadata": {},
   "outputs": [],
   "source": [
    "def plot_bondary(weights):\n",
    "    xs = np.linspace(-1, 1, num=200)\n",
    "    ys = np.linspace(-1, 1, num=200)\n",
    "    xx, yy = np.meshgrid(xs, ys)\n",
    "\n",
    "    z = np.c_[xx.ravel(), yy.ravel()]\n",
    "    zz = np.dot(np.c_[np.ones(len(z)), z], weights)\n",
    "    zz = np.where(zz > 0, 1, -1)\n",
    "\n",
    "    plt.contourf(xx, yy, zz.reshape(xx.shape), cmap=plt.cm.coolwarm, alpha=.4)"
   ]
  },
  {
   "cell_type": "code",
   "execution_count": 268,
   "metadata": {},
   "outputs": [],
   "source": [
    "N = 100\n",
    "niters_list = []\n",
    "p_errors = []\n",
    "trial = 1000\n",
    "\n",
    "while len(niters_list) < trial:\n",
    "    p1, p2 = rand_points(2)\n",
    "    w = get_weights_from_2point(p1, p2)\n",
    "    X_rand = rand_points(N)\n",
    "    f = PLA(w)\n",
    "    y_true = f.predict(X_rand)\n",
    "    if np.abs(np.mean(y_true == 1) - np.mean(y_true==-1)) > 0.3:\n",
    "        continue\n",
    "    h = PLA(max_iters=5000)\n",
    "    h = h.fit(X_rand, y_true)\n",
    "    y_pred = h.predict(X_rand)\n",
    "    if np.allclose(y_true, y_pred):\n",
    "        niters_list.append(h._niters)\n",
    "        p_errors.append(p_error(f, h))"
   ]
  },
  {
   "cell_type": "code",
   "execution_count": 269,
   "metadata": {},
   "outputs": [
    {
     "data": {
      "text/plain": [
       "(135.91499999999999, 1000)"
      ]
     },
     "execution_count": 269,
     "metadata": {},
     "output_type": "execute_result"
    }
   ],
   "source": [
    "np.mean(niters_list), len(niters_list)"
   ]
  },
  {
   "cell_type": "code",
   "execution_count": 270,
   "metadata": {},
   "outputs": [
    {
     "data": {
      "text/plain": [
       "0.0135979"
      ]
     },
     "execution_count": 270,
     "metadata": {},
     "output_type": "execute_result"
    }
   ],
   "source": [
    "np.mean(p_errors)"
   ]
  },
  {
   "cell_type": "code",
   "execution_count": 249,
   "metadata": {},
   "outputs": [
    {
     "data": {
      "text/plain": [
       "[<matplotlib.lines.Line2D at 0x7f6c2b6a0f98>]"
      ]
     },
     "execution_count": 249,
     "metadata": {},
     "output_type": "execute_result"
    },
    {
     "data": {
      "image/png": "[encoded data removed]",
      "text/plain": [
       "<matplotlib.figure.Figure at 0x7f6c2b78f668>"
      ]
     },
     "metadata": {},
     "output_type": "display_data"
    }
   ],
   "source": [
    "plot_bondary(w)\n",
    "\n",
    "idx_1 = (y_true==1)\n",
    "idx_2 = (y_true==-1)\n",
    "plt.plot(X_rand[idx_1][:, 0], X_rand[idx_1][:, 1], 'ro')\n",
    "plt.plot(X_rand[idx_2][:, 0], X_rand[idx_2][:, 1], 'bs')"
   ]
  },
  {
   "cell_type": "code",
   "execution_count": 250,
   "metadata": {},
   "outputs": [
    {
     "data": {
      "text/plain": [
       "[<matplotlib.lines.Line2D at 0x7f6c2b6d7710>]"
      ]
     },
     "execution_count": 250,
     "metadata": {},
     "output_type": "execute_result"
    },
    {
     "data": {
      "image/png": "[encoded data removed]",
      "text/plain": [
       "<matplotlib.figure.Figure at 0x7f6c2b6d72b0>"
      ]
     },
     "metadata": {},
     "output_type": "display_data"
    }
   ],
   "source": [
    "plot_bondary(h._w)\n",
    "\n",
    "y_pred = h.predict(X_rand)\n",
    "idx_1 = (y_pred == 1)\n",
    "idx_2 = (y_pred == -1)\n",
    "plt.plot(X_rand[idx_1][:, 0], X_rand[idx_1][:, 1], 'ro')\n",
    "plt.plot(X_rand[idx_2][:, 0], X_rand[idx_2][:, 1], 'bs')"
   ]
  },
  {
   "cell_type": "code",
   "execution_count": 239,
   "metadata": {},
   "outputs": [
    {
     "data": {
      "text/plain": [
       "(array([ 0.05851046,  0.45706396, -0.29085849]),\n",
       " array([ 1.        ,  5.19847299, -3.83309648]))"
      ]
     },
     "execution_count": 239,
     "metadata": {},
     "output_type": "execute_result"
    }
   ],
   "source": [
    "f._w, h._w"
   ]
  },
  {
   "cell_type": "code",
   "execution_count": 251,
   "metadata": {
    "collapsed": true
   },
   "outputs": [],
   "source": [
    "def p_error(f, g):\n",
    "    xs = np.linspace(-1, 1, 200)\n",
    "    ys = np.linspace(-1, 1, 200)\n",
    "    xx, yy = np.meshgrid(xs, ys)\n",
    "    X_space = np.c_[xx.ravel(), yy.ravel()]\n",
    "    y_f = f.predict(X_space)\n",
    "    y_g = h.predict(X_space)\n",
    "    return (y_f != y_g).mean()"
   ]
  },
  {
   "cell_type": "code",
   "execution_count": 253,
   "metadata": {},
   "outputs": [
    {
     "data": {
      "text/plain": [
       "0.016975000000000001"
      ]
     },
     "execution_count": 253,
     "metadata": {},
     "output_type": "execute_result"
    }
   ],
   "source": [
    "p_error(f, h)"
   ]
  },
  {
   "cell_type": "code",
   "execution_count": null,
   "metadata": {
    "collapsed": true
   },
   "outputs": [],
   "source": []
  }
 ],
 "metadata": {
  "kernelspec": {
   "display_name": "Python [default]",
   "language": "python",
   "name": "python3"
  },
  "language_info": {
   "codemirror_mode": {
    "name": "ipython",
    "version": 3
   },
   "file_extension": ".py",
   "mimetype": "text/x-python",
   "name": "python",
   "nbconvert_exporter": "python",
   "pygments_lexer": "ipython3",
   "version": "3.6.4"
  }
 },
 "nbformat": 4,
 "nbformat_minor": 2
}
